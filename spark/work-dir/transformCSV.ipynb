{
 "cells": [
  {
   "cell_type": "code",
   "execution_count": 1,
   "id": "9d011247",
   "metadata": {},
   "outputs": [],
   "source": [
    "from pyspark import SparkConf\n",
    "from pyspark.sql import SparkSession\n",
    "import pyspark.sql.functions as f\n",
    "from pyspark.sql.types import *\n",
    "# import polars as pl\n",
    "# import pandas as pd"
   ]
  },
  {
   "cell_type": "code",
   "execution_count": 2,
   "id": "1568f430",
   "metadata": {},
   "outputs": [
    {
     "name": "stderr",
     "output_type": "stream",
     "text": [
      "WARNING: Using incubator modules: jdk.incubator.vector\n",
      "Warning: Ignoring non-Spark config property: google.cloud.auth.service.account.json.keyfile\n",
      "Warning: Ignoring non-Spark config property: google.cloud.auth.service.account.enable\n",
      "Using Spark's default log4j profile: org/apache/spark/log4j2-defaults.properties\n",
      "Setting default log level to \"WARN\".\n",
      "To adjust logging level use sc.setLogLevel(newLevel). For SparkR, use setLogLevel(newLevel).\n",
      "25/07/21 03:50:55 WARN NativeCodeLoader: Unable to load native-hadoop library for your platform... using builtin-java classes where applicable\n"
     ]
    }
   ],
   "source": [
    "conf = SparkConf().set('spark.ui.port', '4045')\\\n",
    "  .set(\"google.cloud.auth.service.account.enable\", \"true\")\\\n",
    "  .set(\"google.cloud.auth.service.account.json.keyfile\", \"/opt/spark/credentials/google-credential.json\")\n",
    "spark = SparkSession.builder.appName(\"test\").config(conf = conf).master(\"local[*]\").getOrCreate()\n",
    "# spark.conf.set(\"google.cloud.auth.service.account.enable\", \"true\") \n",
    "# spark.conf.set(\"google.cloud.auth.service.account.json.keyfile\", \"/opt/spark/credentials/google-credential.json\")"
   ]
  },
  {
   "cell_type": "code",
   "execution_count": 3,
   "id": "852a78ab",
   "metadata": {},
   "outputs": [],
   "source": [
    "def get_spark_schema():\n",
    "  from pyspark.sql.types import StructType, StructField, IntegerType, TimestampType, FloatType, DoubleType, StringType\n",
    "  return StructType([\n",
    "    StructField(\"MMSI\", StringType(), False),\n",
    "    StructField(\"BaseDateTime\", TimestampType(), False),\n",
    "    StructField(\"LAT\", DoubleType(), False),\n",
    "    StructField(\"LON\", DoubleType(), False),\n",
    "    StructField(\"SOG\", FloatType(), False),\n",
    "    StructField(\"COG\", FloatType(), False),\n",
    "    StructField(\"Heading\", FloatType(), True),\n",
    "    StructField(\"VesselName\", StringType(), True),\n",
    "    StructField(\"IMO\", StringType(), True),\n",
    "    StructField(\"CallSign\", StringType(), True),\n",
    "    StructField(\"VesselType\", ShortType(), True),\n",
    "    StructField(\"Status\", ShortType(), True),\n",
    "    StructField(\"Length\", FloatType(), True),\n",
    "    StructField(\"Width\", FloatType(), True),\n",
    "    StructField(\"Draft\", FloatType(), True),\n",
    "    StructField(\"Cargo\", StringType(), True),\n",
    "    StructField(\"TransceiverClass\", StringType(), False)\n",
    "  ])"
   ]
  },
  {
   "cell_type": "code",
   "execution_count": 4,
   "id": "a1d272ed",
   "metadata": {},
   "outputs": [],
   "source": [
    "gcs_path = \"gs://vessel-traffic-parquet-data/\"\n",
    "spark_df = spark.read.schema(get_spark_schema()).format(\"parquet\").load(gcs_path + \"raw_day\")\n",
    "vessel_profile_df = spark_df.select(\"MMSI\", \"VesselName\", \"IMO\", \"CallSign\", \"VesselType\", \"Length\", \"Width\").distinct()\n",
    "ais_df = spark_df.select(\"MMSI\",\"BaseDateTime\",\"LAT\",\"LON\",\"SOG\",\"COG\",\"Heading\",\"Status\",\"Draft\",\"Cargo\",\"TransceiverClass\")"
   ]
  },
  {
   "cell_type": "code",
   "execution_count": 5,
   "id": "96192ad9",
   "metadata": {},
   "outputs": [
    {
     "data": {
      "text/plain": [
       "StructType([StructField('MMSI', StringType(), True), StructField('BaseDateTime', TimestampType(), True), StructField('LAT', DoubleType(), True), StructField('LON', DoubleType(), True), StructField('SOG', FloatType(), True), StructField('COG', FloatType(), True), StructField('Heading', FloatType(), True), StructField('VesselName', StringType(), True), StructField('IMO', StringType(), True), StructField('CallSign', StringType(), True), StructField('VesselType', ShortType(), True), StructField('Status', ShortType(), True), StructField('Length', FloatType(), True), StructField('Width', FloatType(), True), StructField('Draft', FloatType(), True), StructField('Cargo', StringType(), True), StructField('TransceiverClass', StringType(), True)])"
      ]
     },
     "execution_count": 5,
     "metadata": {},
     "output_type": "execute_result"
    }
   ],
   "source": [
    "spark_df.schema"
   ]
  },
  {
   "cell_type": "code",
   "execution_count": 23,
   "id": "17a7dd43",
   "metadata": {},
   "outputs": [
    {
     "name": "stderr",
     "output_type": "stream",
     "text": [
      "[Stage 19:==================================================>     (20 + 2) / 22]\r"
     ]
    },
    {
     "name": "stdout",
     "output_type": "stream",
     "text": [
      "+----+------------+---+---+---+---+-------+----------+---+--------+----------+------+------+-----+-----+-----+----------------+\n",
      "|MMSI|BaseDateTime|LAT|LON|SOG|COG|Heading|VesselName|IMO|CallSign|VesselType|Status|Length|Width|Draft|Cargo|TransceiverClass|\n",
      "+----+------------+---+---+---+---+-------+----------+---+--------+----------+------+------+-----+-----+-----+----------------+\n",
      "+----+------------+---+---+---+---+-------+----------+---+--------+----------+------+------+-----+-----+-----+----------------+\n",
      "\n"
     ]
    },
    {
     "name": "stderr",
     "output_type": "stream",
     "text": [
      "                                                                                \r"
     ]
    }
   ],
   "source": [
    "spark_df.filter(f.isnull(f.col(\"MMSI\"))).show()"
   ]
  },
  {
   "cell_type": "code",
   "execution_count": 5,
   "id": "a93441fc",
   "metadata": {},
   "outputs": [
    {
     "name": "stderr",
     "output_type": "stream",
     "text": [
      "[Stage 0:>                                                          (0 + 1) / 1]\r"
     ]
    },
    {
     "name": "stdout",
     "output_type": "stream",
     "text": [
      "+---------+-------------------+--------+----------+----+-----+-------+--------------------+----------+--------+----------+------+------+-----+-----+-----+----------------+\n",
      "|     MMSI|       BaseDateTime|     LAT|       LON| SOG|  COG|Heading|          VesselName|       IMO|CallSign|VesselType|Status|Length|Width|Draft|Cargo|TransceiverClass|\n",
      "+---------+-------------------+--------+----------+----+-----+-------+--------------------+----------+--------+----------+------+------+-----+-----+-----+----------------+\n",
      "|338075892|2024-01-01 00:00:03|43.65322| -70.25298| 0.0|358.8|  511.0|PILOT BOAT SPRING PT|      NULL| WDB8945|        90|     0|   0.0|  0.0|  0.0|   90|               A|\n",
      "|367669550|2024-01-01 00:00:04|46.20031|-123.38573| 0.0|281.9|  141.0|   ALASKA CHALLENGER|IMO7938024| WDH9586|        30|    15|  30.0|  8.0|  0.0|   30|               A|\n",
      "|367118980|2024-01-01 00:00:06|29.98534| -90.40674| 0.0| 30.1|  296.0|     CAPT J A MORGAN|IMO1186680| WDD2725|        31|    12| 115.0| 34.0|  3.0|   57|               A|\n",
      "|367177840|2024-01-01 00:00:05|39.88654| -75.17649| 0.0|304.4|  511.0|       BART TURECAMO|IMO7338808| WBR4464|        52|    15|  33.0|  5.0|  0.0|   52|               A|\n",
      "|367305420|2024-01-01 00:00:06|18.33273| -64.95229| 0.0|332.6|  511.0|       DOROTHY MORAN|IMO7716995| WXU4654|        52|     0|  33.0| 11.0|  0.0|   52|               A|\n",
      "|338239081|2024-01-01 00:00:05|38.95731|  -76.4841| 0.1|111.3|  511.0|              JAHAZI|IMO0000000|    NULL|        36|  NULL|  12.0|  4.0| NULL| NULL|               B|\n",
      "|367507960|2024-01-01 00:00:02|33.75386|-118.22404| 0.0|281.8|  511.0|      DB SALTA VERDE|      NULL| WDF9705|        90|     3|  56.0| 15.0|  2.0|   90|               A|\n",
      "|636018568|2024-01-01 00:00:04|29.27798| -94.59552|10.5|140.7|  143.0|        VIVIT ALTAIS|IMO9840879|   D5QH3|        80|     0| 230.0| 32.0| 11.8|   80|               A|\n",
      "|366847780|2024-01-01 00:00:03|30.18136| -87.67583| 7.6|259.0|  262.0|        PACIFIC DAWN|IMO7400467| WDA7844|        31|     0|  30.0|  8.0|  5.0|   31|               A|\n",
      "|367468580|2024-01-01 00:00:04|29.97021| -90.24457| 0.0|144.3|  511.0|         EMMA CLAIRE|      NULL| WDF5910|        31|     0|  20.0|  7.0|  2.0|   31|               A|\n",
      "|367072840|2024-01-01 00:00:02| 29.5772| -90.60772| 0.0|305.7|  178.0|      KELLY MORRISON|IMO8216485| WDC7532|        34|     0|  60.0| 18.0| 13.3|   34|               A|\n",
      "|368001250|2024-01-01 00:00:08|29.73652| -95.27787| 0.1|351.4|  161.0|           GRAND ANN|IMO0639580| WDJ6890|        52|     3|  97.0| 36.0|  3.0|   52|               A|\n",
      "|366997450|2024-01-01 00:00:03|30.52843| -88.11744| 0.0|306.2|  511.0|            LA BELLE|IMO0000097| WDC2767|        31|     0|  20.0| 16.0|  2.5|   31|               A|\n",
      "|367767310|2024-01-01 00:00:06|27.84387| -97.06975| 1.4|314.5|  511.0|   MICHAEL W BEHRENS|      NULL| WDJ3363|        60|     0|  48.0| 16.0|  3.3|   60|               A|\n",
      "|367002380|2024-01-01 00:00:00|30.11553| -90.99878| 3.0| 16.2|  511.0|          FREEDOM_II|      NULL| WDN7105|        31|    15|  20.0|  9.0|  9.0|   31|               A|\n",
      "|366952790|2024-01-01 00:00:00|40.70003| -74.01225| 0.4|303.0|  160.0|      GUY V MOLINARI|IMO9333486| WDB8295|        60|     0| 100.0| 24.0|  4.0|   60|               A|\n",
      "|367691010|2024-01-01 00:00:00|41.32739| -70.11074|14.6|334.3|  333.0|          WOODS HOLE|IMO9792931| WDI3700|        60|     0|  70.0| 18.0|  4.0|   60|               A|\n",
      "|368102470|2024-01-01 00:00:01| 30.0623| -90.87162| 5.7|285.2|  511.0|            JOANNE C|      NULL| WDK9314|        52|     0|  23.0|  8.0|  3.0|   52|               A|\n",
      "|368327980|2024-01-01 00:00:01|40.64431| -74.11334| 0.0|360.0|  511.0|         HENRY GIRLS|      NULL| WDN9539|        52|     0|  75.0| 26.0|  0.0|   52|               A|\n",
      "|368055190|2024-01-01 00:00:00|29.42377| -94.72035| 0.0|138.4|   47.0|        BRADY DAWSON|IMO1289289| WDK4438|        52|    12| 119.0| 34.0|  3.0|   52|               A|\n",
      "+---------+-------------------+--------+----------+----+-----+-------+--------------------+----------+--------+----------+------+------+-----+-----+-----+----------------+\n",
      "only showing top 20 rows\n"
     ]
    },
    {
     "name": "stderr",
     "output_type": "stream",
     "text": [
      "                                                                                \r"
     ]
    }
   ],
   "source": [
    "spark_df.show()\n",
    "# cols_with_nulls = [x for x in spark_df.columns if spark_df.filter(f.col(x).isNull()).count() > 0]\n",
    "# cols_with_emptystring = [x for x in spark_df.columns if spark_df.filter(f.col(x).isNull()).count() > 0]"
   ]
  },
  {
   "cell_type": "code",
   "execution_count": null,
   "id": "db542aeb",
   "metadata": {},
   "outputs": [],
   "source": [
    "#documentation regarding \"invalid/not accessable/default\" values on:\n",
    "#https://www.navcen.uscg.gov/ais-class-a-reports\n",
    "\n",
    "#replace values for \"invalid/not accessable/default\" to Null for non-categorial field \n",
    "vessel_profile_df = vessel_profile_df.replace(\"IMO0000000\", None, \"IMO\")\n",
    "vessel_profile_df = vessel_profile_df.replace(0, None, [\"Length\", \"Width\"])\n",
    "ais_df = ais_df.replace(511.0, None, \"Heading\")\n",
    "ais_df = ais_df.replace(102.3, None, \"SOG\")\n",
    "ais_df = ais_df.replace(360, None, \"COG\")\n",
    "ais_df = ais_df.replace(0, None, \"Draft\")\n",
    "\n",
    "#replace null to encoded \"invalid/not accessable/default\" values for categorial field\n",
    "vessel_profile_df = vessel_profile_df.fillna(0, \"VesselType\")\n",
    "ais_df = ais_df.fillna(15, \"Status\")\n",
    "ais_df = ais_df.fillna(0, \"Cargo\")"
   ]
  },
  {
   "cell_type": "code",
   "execution_count": 10,
   "id": "89bf0995",
   "metadata": {},
   "outputs": [
    {
     "name": "stderr",
     "output_type": "stream",
     "text": [
      "[Stage 19:>                                                         (0 + 1) / 1]\r"
     ]
    },
    {
     "name": "stdout",
     "output_type": "stream",
     "text": [
      "+---------+-------------------+--------+----------+----+-----+-------+------+-----+-----+----------------+\n",
      "|     MMSI|       BaseDateTime|     LAT|       LON| SOG|  COG|Heading|Status|Draft|Cargo|TransceiverClass|\n",
      "+---------+-------------------+--------+----------+----+-----+-------+------+-----+-----+----------------+\n",
      "|338075892|2024-01-01 00:00:03|43.65322| -70.25298| 0.0|358.8|   NULL|     0| NULL|   90|               A|\n",
      "|367669550|2024-01-01 00:00:04|46.20031|-123.38573| 0.0|281.9|  141.0|    15| NULL|   30|               A|\n",
      "|367118980|2024-01-01 00:00:06|29.98534| -90.40674| 0.0| 30.1|  296.0|    12|  3.0|   57|               A|\n",
      "|367177840|2024-01-01 00:00:05|39.88654| -75.17649| 0.0|304.4|   NULL|    15| NULL|   52|               A|\n",
      "|367305420|2024-01-01 00:00:06|18.33273| -64.95229| 0.0|332.6|   NULL|     0| NULL|   52|               A|\n",
      "|338239081|2024-01-01 00:00:05|38.95731|  -76.4841| 0.1|111.3|   NULL|    15| NULL| NULL|               B|\n",
      "|367507960|2024-01-01 00:00:02|33.75386|-118.22404| 0.0|281.8|   NULL|     3|  2.0|   90|               A|\n",
      "|636018568|2024-01-01 00:00:04|29.27798| -94.59552|10.5|140.7|  143.0|     0| 11.8|   80|               A|\n",
      "|366847780|2024-01-01 00:00:03|30.18136| -87.67583| 7.6|259.0|  262.0|     0|  5.0|   31|               A|\n",
      "|367468580|2024-01-01 00:00:04|29.97021| -90.24457| 0.0|144.3|   NULL|     0|  2.0|   31|               A|\n",
      "|367072840|2024-01-01 00:00:02| 29.5772| -90.60772| 0.0|305.7|  178.0|     0| 13.3|   34|               A|\n",
      "|368001250|2024-01-01 00:00:08|29.73652| -95.27787| 0.1|351.4|  161.0|     3|  3.0|   52|               A|\n",
      "|366997450|2024-01-01 00:00:03|30.52843| -88.11744| 0.0|306.2|   NULL|     0|  2.5|   31|               A|\n",
      "|367767310|2024-01-01 00:00:06|27.84387| -97.06975| 1.4|314.5|   NULL|     0|  3.3|   60|               A|\n",
      "|367002380|2024-01-01 00:00:00|30.11553| -90.99878| 3.0| 16.2|   NULL|    15|  9.0|   31|               A|\n",
      "|366952790|2024-01-01 00:00:00|40.70003| -74.01225| 0.4|303.0|  160.0|     0|  4.0|   60|               A|\n",
      "|367691010|2024-01-01 00:00:00|41.32739| -70.11074|14.6|334.3|  333.0|     0|  4.0|   60|               A|\n",
      "|368102470|2024-01-01 00:00:01| 30.0623| -90.87162| 5.7|285.2|   NULL|     0|  3.0|   52|               A|\n",
      "|368327980|2024-01-01 00:00:01|40.64431| -74.11334| 0.0| NULL|   NULL|     0| NULL|   52|               A|\n",
      "|368055190|2024-01-01 00:00:00|29.42377| -94.72035| 0.0|138.4|   47.0|    12|  3.0|   52|               A|\n",
      "+---------+-------------------+--------+----------+----+-----+-------+------+-----+-----+----------------+\n",
      "only showing top 20 rows\n"
     ]
    },
    {
     "name": "stderr",
     "output_type": "stream",
     "text": [
      "                                                                                \r"
     ]
    }
   ],
   "source": [
    "ais_df.show()"
   ]
  },
  {
   "cell_type": "code",
   "execution_count": 11,
   "id": "28ade028",
   "metadata": {},
   "outputs": [
    {
     "name": "stderr",
     "output_type": "stream",
     "text": [
      "[Stage 20:=====================================================>  (45 + 2) / 47]\r"
     ]
    },
    {
     "name": "stdout",
     "output_type": "stream",
     "text": [
      "+---------+-----------------+----------+--------+----------+------+-----+\n",
      "|     MMSI|       VesselName|       IMO|CallSign|VesselType|Length|Width|\n",
      "+---------+-----------------+----------+--------+----------+------+-----+\n",
      "|367083580|         ROCKFISH|IMO8998954| WDC8223|        52|  24.0| 11.0|\n",
      "|367338000|     HARVEY POWER|IMO9654232|    KVEY|        70|  92.0| 20.0|\n",
      "|368128050|            ROYAL|IMO2855411| WDL4095|        60|  14.0|  5.0|\n",
      "|368293190|ISABELLA JULIETTE|IMO1326320| WDN5797|        52|  24.0| 10.0|\n",
      "|366982180|     C-TRACTOR 10|IMO8875463| WCO3210|        52|  25.0| 10.0|\n",
      "|368339870|            KIAKI|      NULL| WDP2829|        37|  14.0|  4.0|\n",
      "|538009654|    CLIPPER CLYDE|IMO9455911| V7A5002|        70| 177.0| 27.0|\n",
      "|367385380|          VICTORY|      NULL| WDH8434|        37|  30.0|  7.0|\n",
      "|368020980|       ASSATEAGUE|IMO9816892| WDJ8905|        31| 145.0| 17.0|\n",
      "|367181290|             NYAD|      NULL| WDL8733|        36|  16.0|  5.0|\n",
      "|477890100|  ZIM MOUNT BLANC|IMO9931111|   VRUX9|        70| 366.0| 51.0|\n",
      "|310799000|            ANAWA|IMO9814351|   ZCEZ6|        37|  62.0| 14.0|\n",
      "|338108662|          CASTIGO|      NULL|   CUWM8|        37|   5.0|  6.0|\n",
      "|338493612|          RONCITO|      NULL| RONCITO|        37|  16.0|  6.0|\n",
      "|368316140| STAR DOGGED MOON|      NULL| WDN8288|        36|  13.0| 14.0|\n",
      "|354429000|      GLOBAL KOMA|IMO9805726|   3EBM3|        70| 190.0| 32.0|\n",
      "|370756000|     T MATTERHORN|IMO9555292|   3EYC5|        89| 180.0| 32.0|\n",
      "|369552000|     BLUE DOLPHIN|IMO9529724| WDE9988|        30|  92.0| 19.0|\n",
      "|368040150|     GOOD FORTUNE|      NULL| WDK2913|        37|  20.0|  6.0|\n",
      "|232003506|      WELSH PIPER|IMO8611491|   MGKA8|        33|  69.0| 12.0|\n",
      "+---------+-----------------+----------+--------+----------+------+-----+\n",
      "only showing top 20 rows\n"
     ]
    },
    {
     "name": "stderr",
     "output_type": "stream",
     "text": [
      "                                                                                \r"
     ]
    }
   ],
   "source": [
    "vessel_profile_df.show()"
   ]
  },
  {
   "cell_type": "code",
   "execution_count": 7,
   "id": "2c45cf88",
   "metadata": {},
   "outputs": [
    {
     "name": "stderr",
     "output_type": "stream",
     "text": [
      "[Stage 3:======================================================>  (21 + 1) / 22]\r"
     ]
    },
    {
     "name": "stdout",
     "output_type": "stream",
     "text": [
      "+----+------------+---+---+---+---+-------+------+-----+-----+----------------+\n",
      "|MMSI|BaseDateTime|LAT|LON|SOG|COG|Heading|Status|Draft|Cargo|TransceiverClass|\n",
      "+----+------------+---+---+---+---+-------+------+-----+-----+----------------+\n",
      "+----+------------+---+---+---+---+-------+------+-----+-----+----------------+\n",
      "\n"
     ]
    },
    {
     "name": "stderr",
     "output_type": "stream",
     "text": [
      "                                                                                \r"
     ]
    }
   ],
   "source": [
    "ais_df.filter((f.abs(f.col(\"LAT\")) > 90) | (f.abs(f.col(\"LON\")) > 180)).show()"
   ]
  },
  {
   "cell_type": "code",
   "execution_count": 32,
   "id": "c9e7d690",
   "metadata": {},
   "outputs": [
    {
     "name": "stderr",
     "output_type": "stream",
     "text": [
      "[Stage 32:==============>                                           (1 + 3) / 4]\r"
     ]
    },
    {
     "name": "stdout",
     "output_type": "stream",
     "text": [
      "+----+----------+---+--------+----------+------+-----+\n",
      "|MMSI|VesselName|IMO|CallSign|VesselType|Length|Width|\n",
      "+----+----------+---+--------+----------+------+-----+\n",
      "+----+----------+---+--------+----------+------+-----+\n",
      "\n"
     ]
    },
    {
     "name": "stderr",
     "output_type": "stream",
     "text": [
      "[Stage 32:===========================================>              (3 + 1) / 4]\r"
     ]
    }
   ],
   "source": [
    "vessel_profile_df.filter(f.expr(\"VesselName like '@'\")).show()"
   ]
  },
  {
   "cell_type": "code",
   "execution_count": 8,
   "id": "8d84a46a",
   "metadata": {},
   "outputs": [
    {
     "name": "stderr",
     "output_type": "stream",
     "text": [
      "                                                                                \r"
     ]
    }
   ],
   "source": [
    "if vessel_profile_df.count() != vessel_profile_df.select(\"MMSI\").distinct().count():\n",
    "  vessel_profile_df.groupBy(\"MMSI\").count().filter(f.expr(\"count > 1\")).sort(f.desc(\"count\")).show()"
   ]
  },
  {
   "cell_type": "code",
   "execution_count": 34,
   "id": "af31b51c",
   "metadata": {},
   "outputs": [
    {
     "name": "stderr",
     "output_type": "stream",
     "text": [
      "                                                                                \r"
     ]
    }
   ],
   "source": [
    "vessel_profile_df.write.parquet(gcs_path + \"/test/vessel_profile\")"
   ]
  },
  {
   "cell_type": "code",
   "execution_count": 35,
   "id": "954921bf",
   "metadata": {},
   "outputs": [
    {
     "name": "stderr",
     "output_type": "stream",
     "text": [
      "                                                                                \r"
     ]
    }
   ],
   "source": [
    "ais_df.write.parquet(gcs_path + \"/test/ais_data\")"
   ]
  },
  {
   "cell_type": "code",
   "execution_count": null,
   "id": "c38fa9ba",
   "metadata": {},
   "outputs": [
    {
     "name": "stderr",
     "output_type": "stream",
     "text": [
      "[Stage 4:=======================================================> (46 + 1) / 47]\r"
     ]
    },
    {
     "name": "stdout",
     "output_type": "stream",
     "text": [
      "+-----------+\n",
      "|MMSI-Length|\n",
      "+-----------+\n",
      "|          1|\n",
      "|          9|\n",
      "|          4|\n",
      "|          8|\n",
      "|          7|\n",
      "|         10|\n",
      "|          3|\n",
      "|          2|\n",
      "|          6|\n",
      "+-----------+\n",
      "\n"
     ]
    },
    {
     "name": "stderr",
     "output_type": "stream",
     "text": [
      "                                                                                \r"
     ]
    }
   ],
   "source": [
    "vessel_profile_df.select(f.length(f.col(\"MMSI\")).alias(\"MMSI-Length\")).distinct().show()"
   ]
  },
  {
   "cell_type": "code",
   "execution_count": 10,
   "id": "7597fa0b",
   "metadata": {},
   "outputs": [
    {
     "name": "stderr",
     "output_type": "stream",
     "text": [
      "[Stage 7:=======================================================> (46 + 1) / 47]\r"
     ]
    },
    {
     "name": "stdout",
     "output_type": "stream",
     "text": [
      "+-----------+-----+\n",
      "|MMSI-Length|count|\n",
      "+-----------+-----+\n",
      "|          9|33580|\n",
      "|          8|   28|\n",
      "|          7|   17|\n",
      "|          1|    3|\n",
      "|          3|    1|\n",
      "|          4|    1|\n",
      "|         10|    3|\n",
      "|          6|    1|\n",
      "|          2|    1|\n",
      "+-----------+-----+\n",
      "\n"
     ]
    },
    {
     "name": "stderr",
     "output_type": "stream",
     "text": [
      "                                                                                \r"
     ]
    }
   ],
   "source": [
    "vessel_profile_df.select(f.length(f.col(\"MMSI\")).alias(\"MMSI-Length\")).groupBy(f.col(\"MMSI-Length\")).count().show()"
   ]
  },
  {
   "cell_type": "code",
   "execution_count": 11,
   "id": "da1a286d",
   "metadata": {},
   "outputs": [
    {
     "name": "stderr",
     "output_type": "stream",
     "text": [
      "[Stage 13:======================================================> (46 + 1) / 47]\r"
     ]
    },
    {
     "name": "stdout",
     "output_type": "stream",
     "text": [
      "+----------+--------------------+------------+--------+----------+------+-----+\n",
      "|      MMSI|          VesselName|         IMO|CallSign|VesselType|Length|Width|\n",
      "+----------+--------------------+------------+--------+----------+------+-----+\n",
      "|      4061|        BOOSTER 9000|        NULL| 0000000|        33|  NULL| NULL|\n",
      "|   3660489|         NEPTUNE TLP|  IMO0745081| WQGV318|        99|  89.0| 60.0|\n",
      "|1072211352|           SHAMBHALA|        NULL| WDG7537|        37|  30.0|  6.0|\n",
      "|   3381234|            ZEEPAARD|        NULL| BO12345|        36|  NULL| NULL|\n",
      "|       111|            BOOMVANG|  IMO0000001|   EB643|        90|  47.0| 35.0|\n",
      "|   3791472|         LUCIUS SPAR|  IMO1108561|  WQXP40|        80|  NULL| NULL|\n",
      "|        11|        CONSTITUTION|  IMO0000007|  GC 680|        90|  53.0| 38.0|\n",
      "|   1234567|            ST000001|        NULL| BO12345|         1|  NULL| NULL|\n",
      "|   1193046|           NAUTICAST|IMO303174162|  D11233|        50| 220.0| 43.0|\n",
      "|   1056261|      CHAMPAGNE CHER|  IMO1056261| WDC6418|        10|  35.0|  8.0|\n",
      "|         1|        EVENING STAR|        NULL| WCV5672|        30|  21.0|  6.0|\n",
      "|  90120060|           PERLA PP1| IMO21902140|   BR549|        99|  NULL| NULL|\n",
      "|         0|             CG49420|        NULL|    NWHE|        51|  82.0| 12.0|\n",
      "|  36926403|          WARSHIP 25|        NULL|    NMNE|        35|  NULL| NULL|\n",
      "|  36968098|US GOVERNMENT VESSEL|        NULL|    NULL|         0|  NULL| NULL|\n",
      "|  99043470|                NULL|        NULL|    NULL|         0|  NULL| NULL|\n",
      "|  91481544|                NULL|        NULL|    NULL|         0|  NULL| NULL|\n",
      "|  99998800|                NULL|        NULL|    NULL|         0|  NULL| NULL|\n",
      "|1054006152|                NULL|        NULL|    NULL|         0|  NULL| NULL|\n",
      "|1072339762|                WQ52|        NULL|    NULL|        37|  18.0|  3.0|\n",
      "+----------+--------------------+------------+--------+----------+------+-----+\n",
      "only showing top 20 rows\n"
     ]
    },
    {
     "name": "stderr",
     "output_type": "stream",
     "text": [
      "                                                                                \r"
     ]
    }
   ],
   "source": [
    "vessel_profile_df.filter(f.length(f.col(\"MMSI\")) != 9).show()"
   ]
  },
  {
   "cell_type": "code",
   "execution_count": 17,
   "id": "22308ba7",
   "metadata": {},
   "outputs": [
    {
     "name": "stderr",
     "output_type": "stream",
     "text": [
      "[Stage 30:>                                                         (0 + 1) / 1]\r"
     ]
    },
    {
     "name": "stdout",
     "output_type": "stream",
     "text": [
      "+--------+-------------------+--------+---------+---+-----+-------+------+-----+-----+----------------+\n",
      "|    MMSI|       BaseDateTime|     LAT|      LON|SOG|  COG|Heading|Status|Draft|Cargo|TransceiverClass|\n",
      "+--------+-------------------+--------+---------+---+-----+-------+------+-----+-----+----------------+\n",
      "|36968098|2024-01-01 00:00:07| 36.9512|-76.32952|0.1|128.8|   NULL|     0| NULL|    0|               A|\n",
      "|36968098|2024-01-01 00:01:17| 36.9512|-76.32949|0.1|123.6|   NULL|     0| NULL|    0|               A|\n",
      "|36968098|2024-01-01 00:02:27|36.95116|-76.32936|0.0|126.3|   NULL|     0| NULL|    0|               A|\n",
      "|36968098|2024-01-01 00:04:48|36.95121|-76.32954|0.1|125.6|   NULL|     0| NULL|    0|               A|\n",
      "|36968098|2024-01-01 00:07:06|36.95118|-76.32943|0.1|125.4|   NULL|     0| NULL|    0|               A|\n",
      "|36968098|2024-01-01 00:03:37|36.95123|-76.32957|0.1|110.1|   NULL|     0| NULL|    0|               A|\n",
      "|36968098|2024-01-01 00:08:07|36.95122|-76.32946|0.0|113.0|   NULL|     0| NULL|    0|               A|\n",
      "|36968098|2024-01-01 00:09:18|36.95117|-76.32936|0.0|114.1|   NULL|     0| NULL|    0|               A|\n",
      "|36968098|2024-01-01 00:11:37|36.95121|-76.32949|0.1|124.5|   NULL|     0| NULL|    0|               A|\n",
      "|36968098|2024-01-01 00:12:48| 36.9512| -76.3294|0.1|132.1|   NULL|     0| NULL|    0|               A|\n",
      "|36968098|2024-01-01 00:05:57|36.95116|-76.32942|0.0|118.7|   NULL|     0| NULL|    0|               A|\n",
      "|36968098|2024-01-01 00:17:27|36.95116|-76.32946|0.0|137.4|   NULL|     0| NULL|    0|               A|\n",
      "|36968098|2024-01-01 00:18:38|36.95116|-76.32947|0.1|118.5|   NULL|     0| NULL|    0|               A|\n",
      "|36968098|2024-01-01 00:19:47|36.95121|-76.32953|0.1|107.4|   NULL|     0| NULL|    0|               A|\n",
      "|36968098|2024-01-01 00:20:57|36.95123|-76.32943|0.0|104.9|   NULL|     0| NULL|    0|               A|\n",
      "|36968098|2024-01-01 00:13:57|36.95122|-76.32936|0.1|119.5|   NULL|     0| NULL|    0|               A|\n",
      "|36968098|2024-01-01 00:16:17|36.95118|-76.32949|0.1|109.6|   NULL|     0| NULL|    0|               A|\n",
      "|36968098|2024-01-01 00:25:36|36.95115|-76.32947|0.0|104.3|   NULL|     0| NULL|    0|               A|\n",
      "|36968098|2024-01-01 00:24:27|36.95116|-76.32952|0.0|129.7|   NULL|     0| NULL|    0|               A|\n",
      "|36968098|2024-01-01 00:27:47|36.95118| -76.3293|0.0|116.6|   NULL|     0| NULL|    0|               A|\n",
      "+--------+-------------------+--------+---------+---+-----+-------+------+-----+-----+----------------+\n",
      "only showing top 20 rows\n"
     ]
    },
    {
     "name": "stderr",
     "output_type": "stream",
     "text": [
      "                                                                                \r"
     ]
    }
   ],
   "source": [
    "ais_df.filter(f.col(\"MMSI\") == '36968098').show()"
   ]
  },
  {
   "cell_type": "code",
   "execution_count": 15,
   "id": "19163f32",
   "metadata": {},
   "outputs": [
    {
     "name": "stderr",
     "output_type": "stream",
     "text": [
      "[Stage 25:=====================================================>  (21 + 1) / 22]\r"
     ]
    },
    {
     "name": "stdout",
     "output_type": "stream",
     "text": [
      "+--------+-------------------+--------+--------+---+-----+-------+------+-----+-----+----------------+\n",
      "|    MMSI|       BaseDateTime|     LAT|     LON|SOG|  COG|Heading|Status|Draft|Cargo|TransceiverClass|\n",
      "+--------+-------------------+--------+--------+---+-----+-------+------+-----+-----+----------------+\n",
      "|99043470|2024-01-01 04:48:22|45.21632|-122.682|0.0|220.2|   NULL|     0| NULL| NULL|               A|\n",
      "+--------+-------------------+--------+--------+---+-----+-------+------+-----+-----+----------------+\n",
      "\n"
     ]
    },
    {
     "name": "stderr",
     "output_type": "stream",
     "text": [
      "                                                                                \r"
     ]
    }
   ],
   "source": [
    "ais_df.filter(f.col(\"MMSI\") == '99043470').show()"
   ]
  },
  {
   "cell_type": "code",
   "execution_count": 16,
   "id": "8d4d455a",
   "metadata": {},
   "outputs": [
    {
     "name": "stderr",
     "output_type": "stream",
     "text": [
      "[Stage 29:=====================================================>  (21 + 1) / 22]\r"
     ]
    },
    {
     "name": "stdout",
     "output_type": "stream",
     "text": [
      "+--------+-------------------+--------+----------+----+-----+-------+------+-----+-----+----------------+\n",
      "|    MMSI|       BaseDateTime|     LAT|       LON| SOG|  COG|Heading|Status|Draft|Cargo|TransceiverClass|\n",
      "+--------+-------------------+--------+----------+----+-----+-------+------+-----+-----+----------------+\n",
      "|91481544|2024-01-04 05:25:28|41.99946|-108.11237|25.8|314.2|  142.0|     4| NULL| NULL|               A|\n",
      "+--------+-------------------+--------+----------+----+-----+-------+------+-----+-----+----------------+\n",
      "\n"
     ]
    },
    {
     "name": "stderr",
     "output_type": "stream",
     "text": [
      "                                                                                \r"
     ]
    }
   ],
   "source": [
    "ais_df.filter(f.col(\"MMSI\") == '91481544').show()"
   ]
  },
  {
   "cell_type": "code",
   "execution_count": 6,
   "id": "d6695f49",
   "metadata": {},
   "outputs": [
    {
     "name": "stderr",
     "output_type": "stream",
     "text": [
      "                                                                                \r"
     ]
    },
    {
     "data": {
      "text/plain": [
       "110673"
      ]
     },
     "execution_count": 6,
     "metadata": {},
     "output_type": "execute_result"
    }
   ],
   "source": [
    "ais_df.filter(f.length(f.col(\"MMSI\")) != 9).count()"
   ]
  },
  {
   "cell_type": "code",
   "execution_count": 8,
   "id": "8a7167cf",
   "metadata": {},
   "outputs": [],
   "source": [
    "test_df = spark.read.parquet(\"/opt/spark/work-dir/ais_data2\")"
   ]
  },
  {
   "cell_type": "code",
   "execution_count": 9,
   "id": "9abff92a",
   "metadata": {},
   "outputs": [
    {
     "name": "stdout",
     "output_type": "stream",
     "text": [
      "+---------+-------------------+--------+----------+-------------------+------------------+-------+------+-----+-----+----------------+\n",
      "|     MMSI|       BaseDateTime|     LAT|       LON|                SOG|               COG|Heading|Status|Draft|Cargo|TransceiverClass|\n",
      "+---------+-------------------+--------+----------+-------------------+------------------+-------+------+-----+-----+----------------+\n",
      "|366832740|2024-01-10 23:59:59|27.61809| -82.93689|0.30000001192092896|281.20001220703125|  286.0|    12|  8.5|   12|               A|\n",
      "|368112350|2024-01-10 00:00:00|29.60404| -89.87206|                0.0|             304.5|   NULL|    12|  1.2|   52|               A|\n",
      "|304888000|2024-01-10 00:00:01|29.94281| -89.99669|0.20000000298023224| 355.1000061035156|  175.0|     0|  8.4|   70|               A|\n",
      "|256059000|2024-01-10 00:00:01|18.72972| -66.78762|               18.5| 288.8999938964844|  289.0|     0|  8.7|   60|               A|\n",
      "|338434937|2024-01-10 00:00:02|26.00205|  -80.1222|                0.0|              NULL|   NULL|    15| NULL| NULL|               B|\n",
      "|338311598|2024-01-10 00:00:02|30.30961| -87.52645|                0.0|             159.5|   70.0|    15| NULL| NULL|               B|\n",
      "|367797720|2024-01-10 00:00:03|41.21019| -73.94402|  6.300000190734863| 339.8999938964844|  340.0|     0|  3.7|    9|               A|\n",
      "|366805350|2024-01-10 00:00:04|29.12204| -90.20617|0.10000000149011612|              NULL|   NULL|    15| NULL|   31|               A|\n",
      "|338390514|2024-01-10 00:00:06|28.17506| -82.79069| 102.30000305175781|              NULL|   NULL|    15| NULL| NULL|               B|\n",
      "|368161520|2024-01-10 00:00:06|32.45101| -80.57912|0.10000000149011612|              NULL|   NULL|    15| NULL| NULL|               B|\n",
      "|367695280|2024-01-10 00:00:00|30.70038| -88.03585|                0.0| 222.1999969482422|   61.0|    12|  2.2|   57|               A|\n",
      "|366982340|2024-01-10 00:00:00|47.63202|-122.37934|                0.0|192.60000610351562|  356.0|     0|  6.0|   52|               A|\n",
      "|367686940|2024-01-10 00:00:03|40.64148| -74.13127|0.10000000149011612|              NULL|   NULL|     0| NULL|   31|               A|\n",
      "|339514000|2024-01-10 00:00:00|27.93104| -82.52678|                0.0|24.399999618530273|   NULL|     0|  2.5|   37|               A|\n",
      "|366964110|2024-01-10 00:00:03|29.45678| -89.84255|                0.0|314.29998779296875|   NULL|     0|  2.0|   90|               A|\n",
      "|367430050|2024-01-10 00:00:03|30.53011| -91.74306|0.10000000149011612| 178.3000030517578|  333.0|     0|  2.8|   99|               A|\n",
      "|477907100|2024-01-10 00:00:04|32.26942| -79.13367|                3.5|53.900001525878906|  162.0|     0| 13.4|   70|               A|\n",
      "|538002783|2024-01-10 00:00:04|43.77028| -68.30327|                9.0|              70.0|   78.0|     0|  7.4|   80|               A|\n",
      "|366823250|2024-01-10 00:00:07|33.72157|-118.28106|                0.0|249.39999389648438|   NULL|    15| NULL| NULL|               B|\n",
      "|366845050|2024-01-10 00:00:06|29.31225| -94.80235|                0.0|341.79998779296875|   NULL|     0|  1.5|   40|               A|\n",
      "+---------+-------------------+--------+----------+-------------------+------------------+-------+------+-----+-----+----------------+\n",
      "only showing top 20 rows\n"
     ]
    }
   ],
   "source": [
    "test_df.show()"
   ]
  }
 ],
 "metadata": {
  "kernelspec": {
   "display_name": "Python 3",
   "language": "python",
   "name": "python3"
  },
  "language_info": {
   "codemirror_mode": {
    "name": "ipython",
    "version": 3
   },
   "file_extension": ".py",
   "mimetype": "text/x-python",
   "name": "python",
   "nbconvert_exporter": "python",
   "pygments_lexer": "ipython3",
   "version": "3.10.12"
  }
 },
 "nbformat": 4,
 "nbformat_minor": 5
}

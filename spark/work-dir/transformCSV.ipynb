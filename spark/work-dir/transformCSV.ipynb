{
 "cells": [
  {
   "cell_type": "code",
   "execution_count": null,
   "id": "9d011247",
   "metadata": {},
   "outputs": [
    {
     "ename": "ModuleNotFoundError",
     "evalue": "No module named 'py4j'",
     "output_type": "error",
     "traceback": [
      "\u001b[0;31m---------------------------------------------------------------------------\u001b[0m",
      "\u001b[0;31mModuleNotFoundError\u001b[0m                       Traceback (most recent call last)",
      "Cell \u001b[0;32mIn[2], line 1\u001b[0m\n\u001b[0;32m----> 1\u001b[0m \u001b[38;5;28;01mfrom\u001b[39;00m\u001b[38;5;250m \u001b[39m\u001b[38;5;21;01mpyspark\u001b[39;00m\u001b[38;5;21;01m.\u001b[39;00m\u001b[38;5;21;01mconf\u001b[39;00m\u001b[38;5;250m \u001b[39m\u001b[38;5;28;01mimport\u001b[39;00m SparkConf\n\u001b[1;32m      2\u001b[0m \u001b[38;5;28;01mfrom\u001b[39;00m\u001b[38;5;250m \u001b[39m\u001b[38;5;21;01mpyspark\u001b[39;00m\u001b[38;5;21;01m.\u001b[39;00m\u001b[38;5;21;01msql\u001b[39;00m\u001b[38;5;250m \u001b[39m\u001b[38;5;28;01mimport\u001b[39;00m SparkSession\n\u001b[1;32m      3\u001b[0m \u001b[38;5;28;01mimport\u001b[39;00m\u001b[38;5;250m \u001b[39m\u001b[38;5;21;01mpyspark\u001b[39;00m\u001b[38;5;21;01m.\u001b[39;00m\u001b[38;5;21;01msql\u001b[39;00m\u001b[38;5;21;01m.\u001b[39;00m\u001b[38;5;21;01mfunctions\u001b[39;00m\u001b[38;5;250m \u001b[39m\u001b[38;5;28;01mas\u001b[39;00m\u001b[38;5;250m \u001b[39m\u001b[38;5;21;01mf\u001b[39;00m\n",
      "File \u001b[0;32m~/python/pyspark/__init__.py:58\u001b[0m\n\u001b[1;32m     52\u001b[0m \u001b[38;5;28;01mfrom\u001b[39;00m\u001b[38;5;250m \u001b[39m\u001b[38;5;21;01mwarnings\u001b[39;00m\u001b[38;5;250m \u001b[39m\u001b[38;5;28;01mimport\u001b[39;00m filterwarnings\n\u001b[1;32m     54\u001b[0m filterwarnings(\n\u001b[1;32m     55\u001b[0m     \u001b[38;5;124m\"\u001b[39m\u001b[38;5;124mignore\u001b[39m\u001b[38;5;124m\"\u001b[39m, message\u001b[38;5;241m=\u001b[39m\u001b[38;5;124m\"\u001b[39m\u001b[38;5;124mdistutils Version classes are deprecated. Use packaging.version instead.\u001b[39m\u001b[38;5;124m\"\u001b[39m\n\u001b[1;32m     56\u001b[0m )\n\u001b[0;32m---> 58\u001b[0m \u001b[38;5;28;01mfrom\u001b[39;00m\u001b[38;5;250m \u001b[39m\u001b[38;5;21;01mpyspark\u001b[39;00m\u001b[38;5;21;01m.\u001b[39;00m\u001b[38;5;21;01mconf\u001b[39;00m\u001b[38;5;250m \u001b[39m\u001b[38;5;28;01mimport\u001b[39;00m SparkConf\n\u001b[1;32m     59\u001b[0m \u001b[38;5;28;01mfrom\u001b[39;00m\u001b[38;5;250m \u001b[39m\u001b[38;5;21;01mpyspark\u001b[39;00m\u001b[38;5;21;01m.\u001b[39;00m\u001b[38;5;21;01mrdd\u001b[39;00m\u001b[38;5;250m \u001b[39m\u001b[38;5;28;01mimport\u001b[39;00m RDD, RDDBarrier\n\u001b[1;32m     60\u001b[0m \u001b[38;5;28;01mfrom\u001b[39;00m\u001b[38;5;250m \u001b[39m\u001b[38;5;21;01mpyspark\u001b[39;00m\u001b[38;5;21;01m.\u001b[39;00m\u001b[38;5;21;01mfiles\u001b[39;00m\u001b[38;5;250m \u001b[39m\u001b[38;5;28;01mimport\u001b[39;00m SparkFiles\n",
      "File \u001b[0;32m~/python/pyspark/conf.py:23\u001b[0m\n\u001b[1;32m     20\u001b[0m \u001b[38;5;28;01mimport\u001b[39;00m\u001b[38;5;250m \u001b[39m\u001b[38;5;21;01msys\u001b[39;00m\n\u001b[1;32m     21\u001b[0m \u001b[38;5;28;01mfrom\u001b[39;00m\u001b[38;5;250m \u001b[39m\u001b[38;5;21;01mtyping\u001b[39;00m\u001b[38;5;250m \u001b[39m\u001b[38;5;28;01mimport\u001b[39;00m Dict, List, Optional, Tuple, cast, overload\n\u001b[0;32m---> 23\u001b[0m \u001b[38;5;28;01mfrom\u001b[39;00m\u001b[38;5;250m \u001b[39m\u001b[38;5;21;01mpy4j\u001b[39;00m\u001b[38;5;21;01m.\u001b[39;00m\u001b[38;5;21;01mjava_gateway\u001b[39;00m\u001b[38;5;250m \u001b[39m\u001b[38;5;28;01mimport\u001b[39;00m JVMView, JavaObject\n\u001b[1;32m     24\u001b[0m \u001b[38;5;28;01mfrom\u001b[39;00m\u001b[38;5;250m \u001b[39m\u001b[38;5;21;01mpyspark\u001b[39;00m\u001b[38;5;21;01m.\u001b[39;00m\u001b[38;5;21;01merrors\u001b[39;00m\u001b[38;5;250m \u001b[39m\u001b[38;5;28;01mimport\u001b[39;00m PySparkRuntimeError\n\u001b[1;32m     27\u001b[0m \u001b[38;5;28;01mclass\u001b[39;00m\u001b[38;5;250m \u001b[39m\u001b[38;5;21;01mSparkConf\u001b[39;00m:\n",
      "\u001b[0;31mModuleNotFoundError\u001b[0m: No module named 'py4j'"
     ]
    }
   ],
   "source": [
    "from pyspark import SparkConf\n",
    "from pyspark.sql import SparkSession\n",
    "import pyspark.sql.functions as f\n",
    "from pyspark.sql.window import Window\n",
    "from pyspark.sql.types import *\n",
    "# import polars as pl\n",
    "import pandas as pd\n",
    "from shapely import Polygon, Point"
   ]
  },
  {
   "cell_type": "code",
   "execution_count": 2,
   "id": "1568f430",
   "metadata": {},
   "outputs": [
    {
     "name": "stderr",
     "output_type": "stream",
     "text": [
      "WARNING: Using incubator modules: jdk.incubator.vector\n",
      "Warning: Ignoring non-Spark config property: google.cloud.auth.service.account.json.keyfile\n",
      "Warning: Ignoring non-Spark config property: google.cloud.auth.service.account.enable\n",
      "Using Spark's default log4j profile: org/apache/spark/log4j2-defaults.properties\n",
      "Setting default log level to \"WARN\".\n",
      "To adjust logging level use sc.setLogLevel(newLevel). For SparkR, use setLogLevel(newLevel).\n",
      "25/08/18 00:06:51 WARN NativeCodeLoader: Unable to load native-hadoop library for your platform... using builtin-java classes where applicable\n"
     ]
    }
   ],
   "source": [
    "conf = SparkConf().set('spark.ui.port', '4045')\\\n",
    "  .set(\"google.cloud.auth.service.account.enable\", \"true\")\\\n",
    "  .set(\"google.cloud.auth.service.account.json.keyfile\", \"/opt/spark/credentials/google-credential.json\")\n",
    "spark = SparkSession.builder.appName(\"test\").config(conf = conf).master(\"local[*]\").getOrCreate()\n",
    "# spark.conf.set(\"google.cloud.auth.service.account.enable\", \"true\") \n",
    "# spark.conf.set(\"google.cloud.auth.service.account.json.keyfile\", \"/opt/spark/credentials/google-credential.json\")"
   ]
  },
  {
   "cell_type": "code",
   "execution_count": 3,
   "id": "852a78ab",
   "metadata": {},
   "outputs": [],
   "source": [
    "def get_spark_schema():\n",
    "  from pyspark.sql.types import StructType, StructField, IntegerType, TimestampType, FloatType, DoubleType, StringType\n",
    "  return StructType([\n",
    "    StructField(\"MMSI\", StringType(), False),\n",
    "    StructField(\"BaseDateTime\", TimestampType(), False),\n",
    "    StructField(\"LAT\", DoubleType(), False),\n",
    "    StructField(\"LON\", DoubleType(), False),\n",
    "    StructField(\"SOG\", FloatType(), False),\n",
    "    StructField(\"COG\", FloatType(), False),\n",
    "    StructField(\"Heading\", FloatType(), True),\n",
    "    StructField(\"VesselName\", StringType(), True),\n",
    "    StructField(\"IMO\", StringType(), True),\n",
    "    StructField(\"CallSign\", StringType(), True),\n",
    "    StructField(\"VesselType\", ShortType(), True),\n",
    "    StructField(\"Status\", ShortType(), True),\n",
    "    StructField(\"Length\", FloatType(), True),\n",
    "    StructField(\"Width\", FloatType(), True),\n",
    "    StructField(\"Draft\", FloatType(), True),\n",
    "    StructField(\"Cargo\", StringType(), True),\n",
    "    StructField(\"TransceiverClass\", StringType(), False)\n",
    "  ])\n",
    "  \n",
    "def get_port_schema():\n",
    "  from pyspark.sql.types import StructType, StructField, IntegerType, TimestampType, FloatType, DoubleType, StringType\n",
    "  return StructType([\n",
    "    StructField(\"UNLOCODE\", StringType(), False),\n",
    "    StructField(\"NAME\", StringType(), False),\n",
    "    StructField(\"STATE\", StringType(), False),\n",
    "    StructField(\"LAT\", DoubleType(), False),\n",
    "    StructField(\"LON\", DoubleType(), False),\n",
    "  ])\n",
    "  \n",
    "@f.udf(returnType=BooleanType())\n",
    "def near_coastline_polygon(lat, lon):\n",
    "  point = Point(lon, lat)\n",
    "  polygon = Polygon([\n",
    "    (-125.1,48.8),\n",
    "    (-124.7,41.9),\n",
    "    (-124.5, 40.3),\n",
    "    (-120.7, 34.4),\n",
    "    (-117.3, 32.4),\n",
    "    (-97, 25.7),\n",
    "    (-97, 27.6),\n",
    "    (-93, 29.5),\n",
    "    (-89, 28.7),\n",
    "    (-87.3, 30.1),\n",
    "    (-85, 29.4),\n",
    "    (-83, 27.8),\n",
    "    (-81.2, 25),\n",
    "    (-80, 25),\n",
    "    (-80, 27),\n",
    "    (-80.5, 28.6),\n",
    "    (-75.3, 35.2),\n",
    "    (-75.7, 36.9),\n",
    "    (-73.8, 40.3),\n",
    "    (-69.7, 41.1),\n",
    "    (-70, 43),\n",
    "    (-125.1,48.8),\n",
    "  ])\n",
    "  return polygon.contains(point)"
   ]
  },
  {
   "cell_type": "code",
   "execution_count": null,
   "id": "a1d272ed",
   "metadata": {},
   "outputs": [],
   "source": [
    "bucket_path = \"gs://vessel-traffic-parquet-data/\"\n",
    "#file_path = \"raw_day/year=2024/month=1/AIS_2024_01_01.parquet\"\n",
    "file_path = \"raw_day/year=2024/\"\n",
    "spark_df = spark.read.schema(get_spark_schema()).format(\"parquet\").load(bucket_path + file_path)\n",
    "spark_df = spark_df.filter((f.length(f.col(\"MMSI\")) == 9) & (f.abs(f.col(\"LAT\")) <= 90) & (f.abs(f.col(\"LON\")) <= 180))\n",
    "port_df = spark.read.schema(get_port_schema()).csv(\"ports.csv\", header=True)\n",
    "vessel_profile_df = spark_df.select(\"MMSI\", \"VesselName\", \"IMO\", \"CallSign\", \"VesselType\", f.col(\"Length\"), f.col(\"Width\")).distinct()\n",
    "ais_df = spark_df.select(\"MMSI\",\"BaseDateTime\",\"LAT\",\"LON\",\"SOG\",\"COG\",\"Heading\",\"Status\",\"Draft\",\"Cargo\",\"TransceiverClass\")"
   ]
  },
  {
   "cell_type": "code",
   "execution_count": null,
   "id": "96192ad9",
   "metadata": {},
   "outputs": [],
   "source": [
    "spark_df.schema"
   ]
  },
  {
   "cell_type": "code",
   "execution_count": null,
   "id": "17a7dd43",
   "metadata": {},
   "outputs": [],
   "source": [
    "spark_df.filter(f.isnull(f.col(\"MMSI\"))).show()"
   ]
  },
  {
   "cell_type": "code",
   "execution_count": null,
   "id": "db542aeb",
   "metadata": {},
   "outputs": [],
   "source": [
    "#documentation regarding \"invalid/not accessable/default\" values on:\n",
    "#https://www.navcen.uscg.gov/ais-class-a-reports\n",
    "\n",
    "#replace values for \"invalid/not accessable/default\" to Null for non-categorial field \n",
    "vessel_profile_df = vessel_profile_df.replace(\"IMO0000000\", None, \"IMO\")\n",
    "vessel_profile_df = vessel_profile_df.replace(0, None, [\"Length\", \"Width\"])\n",
    "ais_df = ais_df.replace(511.0, None, \"Heading\")\n",
    "ais_df = ais_df.replace(102.3, None, \"SOG\")\n",
    "ais_df = ais_df.replace(360, None, \"COG\")\n",
    "ais_df = ais_df.replace(0, None, \"Draft\")\n",
    "\n",
    "#replace null to encoded \"invalid/not accessable/default\" values for categorial field\n",
    "vessel_profile_df = vessel_profile_df.fillna(0, \"VesselType\")\n",
    "ais_df = ais_df.fillna(15, \"Status\")\n",
    "ais_df = ais_df.fillna(0, \"Cargo\")"
   ]
  },
  {
   "cell_type": "code",
   "execution_count": null,
   "id": "89bf0995",
   "metadata": {},
   "outputs": [],
   "source": [
    "ais_df.show()"
   ]
  },
  {
   "cell_type": "code",
   "execution_count": null,
   "id": "28ade028",
   "metadata": {},
   "outputs": [],
   "source": [
    "vessel_profile_df.show()"
   ]
  },
  {
   "cell_type": "code",
   "execution_count": null,
   "id": "2c45cf88",
   "metadata": {},
   "outputs": [],
   "source": [
    "ais_df.filter((f.abs(f.col(\"LAT\")) > 90) | (f.abs(f.col(\"LON\")) > 180)).show()"
   ]
  },
  {
   "cell_type": "code",
   "execution_count": null,
   "id": "c9e7d690",
   "metadata": {},
   "outputs": [],
   "source": [
    "vessel_profile_df.filter(f.expr(\"VesselName like '@'\")).show()"
   ]
  },
  {
   "cell_type": "code",
   "execution_count": null,
   "id": "8d84a46a",
   "metadata": {},
   "outputs": [],
   "source": [
    "if vessel_profile_df.count() != vessel_profile_df.select(\"MMSI\").distinct().count():\n",
    "  vessel_profile_df.groupBy(\"MMSI\").count().filter(f.expr(\"count > 1\")).sort(f.desc(\"count\")).show()"
   ]
  },
  {
   "cell_type": "code",
   "execution_count": null,
   "id": "c38fa9ba",
   "metadata": {},
   "outputs": [],
   "source": [
    "vessel_profile_df.select(f.length(f.col(\"MMSI\")).alias(\"MMSI-Length\")).distinct().show()"
   ]
  },
  {
   "cell_type": "code",
   "execution_count": null,
   "id": "7597fa0b",
   "metadata": {},
   "outputs": [],
   "source": [
    "vessel_profile_df.select(f.length(f.col(\"MMSI\")).alias(\"MMSI-Length\")).groupBy(f.col(\"MMSI-Length\")).count().show()"
   ]
  },
  {
   "cell_type": "code",
   "execution_count": null,
   "id": "da1a286d",
   "metadata": {},
   "outputs": [],
   "source": [
    "vessel_profile_df.filter(f.length(f.col(\"MMSI\")) != 9).show()"
   ]
  },
  {
   "cell_type": "code",
   "execution_count": null,
   "id": "22308ba7",
   "metadata": {},
   "outputs": [],
   "source": [
    "ais_df.filter(f.col(\"MMSI\") == '36968098').show()"
   ]
  },
  {
   "cell_type": "code",
   "execution_count": null,
   "id": "19163f32",
   "metadata": {},
   "outputs": [],
   "source": [
    "ais_df.filter(f.col(\"MMSI\") == '99043470').show()"
   ]
  },
  {
   "cell_type": "code",
   "execution_count": null,
   "id": "8d4d455a",
   "metadata": {},
   "outputs": [],
   "source": [
    "ais_df.filter(f.col(\"MMSI\") == '91481544').show()"
   ]
  },
  {
   "cell_type": "code",
   "execution_count": null,
   "id": "d6695f49",
   "metadata": {},
   "outputs": [],
   "source": [
    "ais_df.filter(f.length(f.col(\"MMSI\")) != 9).count()"
   ]
  },
  {
   "cell_type": "code",
   "execution_count": null,
   "id": "22dc9191",
   "metadata": {},
   "outputs": [],
   "source": [
    "vessel_profile_df.cache()\n",
    "vessel_profile_df.filter(f.col(\"MMSI\") == 338478187).show()"
   ]
  },
  {
   "cell_type": "code",
   "execution_count": null,
   "id": "b80c3052",
   "metadata": {},
   "outputs": [],
   "source": [
    "vessel_profile_df.groupBy(\"MMSI\").agg(f.count_distinct(\"CallSign\").alias(\"c\")).filter(f.col(\"c\") > 1).show()"
   ]
  },
  {
   "cell_type": "code",
   "execution_count": null,
   "id": "bac54119",
   "metadata": {},
   "outputs": [],
   "source": [
    "vessel_profile_df.filter(f.col(\"MMSI\") == 369914086).show()"
   ]
  },
  {
   "cell_type": "code",
   "execution_count": null,
   "id": "d9ecb191",
   "metadata": {},
   "outputs": [],
   "source": [
    "vessel_profile_df.replace(\"NULL\", None, [\"CallSign\",\"IMO\"]).distinct().filter(f.col(\"MMSI\") == 338442596).show()"
   ]
  },
  {
   "cell_type": "code",
   "execution_count": null,
   "id": "ec5f093b",
   "metadata": {},
   "outputs": [],
   "source": [
    "vessel_profile_df.distinct()\\\n",
    ".filter(f.col(\"MMSI\") == 338354216)\\\n",
    ".filter(f.col(\"CallSign\") == \"NULL\")\\\n",
    ".show()\n",
    "# .filter(f.col(\"VesselName\") == \"ADVENTURE\")\\\n",
    "# .filter(f.col(\"VesselType\") == 36)\\\n",
    "# .filter(f.isnull(\"IMO\"))\\\n",
    "# .filter(f.col(\"Length\") == 13)\\\n",
    "# .filter(f.col(\"Width\") == 4)\\\n"
   ]
  },
  {
   "cell_type": "code",
   "execution_count": null,
   "id": "b70bdc2f",
   "metadata": {},
   "outputs": [],
   "source": [
    "vessel_profile_df.filter(f.col(\"CallSign\") == \"NULL\").count()"
   ]
  },
  {
   "cell_type": "code",
   "execution_count": null,
   "id": "b0ffd3d4",
   "metadata": {},
   "outputs": [],
   "source": [
    "vessel_profile_df.filter(f.isnull(f.col(\"CallSign\"))).count()"
   ]
  },
  {
   "cell_type": "code",
   "execution_count": null,
   "id": "076122b1",
   "metadata": {},
   "outputs": [],
   "source": [
    "delta_phi = f.radians(f.expr(\"lead_LAT - LAT\"))\n",
    "delta_lambda = f.radians(f.expr(\"lead_LON - LON\"))\n",
    "a = f.pow(f.sin(delta_phi / 2), 2) + f.cos(f.radians(f.col(\"LAT\"))) * f.cos(f.radians(f.col(\"lead_LAT\"))) * f.pow(f.sin(delta_lambda)/2,2)\n",
    "c = 2 * f.atan2(f.sqrt(a), f.sqrt(1-a))\n",
    "d = 6371 * c"
   ]
  },
  {
   "cell_type": "code",
   "execution_count": null,
   "id": "489ad3ee",
   "metadata": {},
   "outputs": [],
   "source": [
    "delta_lat_port = f.radians(f.expr(\"ais.LAT - port.LAT\"))\n",
    "delta_lon_port = f.radians(f.expr(\"ais.LON - port.LON\"))\n",
    "a_port = f.pow(f.sin(delta_lat_port / 2), 2) + f.cos(f.radians(f.col(\"ais.LAT\"))) * f.cos(f.radians(f.col(\"port.LAT\"))) * f.pow(f.sin(delta_lon_port)/2,2)\n",
    "c_port = 2 * f.atan2(f.sqrt(a_port), f.sqrt(1-a_port))\n",
    "d_port = (6371 * c_port).alias(\"km_to_port\")"
   ]
  },
  {
   "cell_type": "code",
   "execution_count": null,
   "id": "57c68a62",
   "metadata": {},
   "outputs": [],
   "source": [
    "def col_select(col:str):\n",
    "  if col == \"SOG\":\n",
    "    return f.col(\"SOG\").alias(\"SOG'\")\n",
    "  else:\n",
    "    return f.col(col)"
   ]
  },
  {
   "cell_type": "code",
   "execution_count": null,
   "id": "a5167f50",
   "metadata": {},
   "outputs": [],
   "source": [
    "windowSpec = Window.partitionBy(f.col(\"MMSI\")).orderBy(f.asc(f.col(\"BaseDateTime\")))\n",
    "#test_df = ais_df.select([col for col in ais_df.columns if col != \"SOG\"])\n",
    "ping_df = ais_df.select(\"MMSI\", \"BaseDateTime\", \"LAT\", \"LON\",\n",
    "                      f.lead(f.col(\"LAT\")).over(windowSpec).alias(\"lead_LAT\"),\n",
    "                      f.lead(f.col(\"LON\")).over(windowSpec).alias(\"lead_LON\"),\n",
    "                      f.lead(f.col(\"BaseDateTime\")).over(windowSpec).alias(\"lead_time\"),\n",
    "                      d.alias(\"d\")\n",
    "                      ).alias(\"ais\")"
   ]
  },
  {
   "cell_type": "code",
   "execution_count": null,
   "id": "9caa7414",
   "metadata": {},
   "outputs": [],
   "source": [
    "windowSpec_port = Window.partitionBy(f.col(\"ais.MMSI\"), f.col(\"ais.BaseDateTime\")).orderBy(f.asc(f.col(\"km_to_port\")))"
   ]
  },
  {
   "cell_type": "code",
   "execution_count": null,
   "id": "0a1d30b1",
   "metadata": {},
   "outputs": [],
   "source": [
    "cross_df = ping_df.crossJoin(f.broadcast(port_df.alias(\"port\")))\n",
    "cross_df = cross_df.select(\"ais.MMSI\", \"ais.BaseDateTime\", d_port, \"port.UNLOCODE\").filter(f.col(\"km_to_port\") <= 35)\n",
    "cross_df = cross_df.select(\"*\", f.row_number().over(windowSpec_port).alias(\"order\")).where(f.col(\"order\") == 1)\n",
    "cross_df = cross_df.select(\"ais.MMSI\", \"ais.BaseDateTime\", \"km_to_port\", \"port.UNLOCODE\")"
   ]
  },
  {
   "cell_type": "code",
   "execution_count": null,
   "id": "7560834a",
   "metadata": {},
   "outputs": [],
   "source": [
    "cross_df.count()"
   ]
  },
  {
   "cell_type": "code",
   "execution_count": null,
   "id": "6de517c2",
   "metadata": {},
   "outputs": [],
   "source": [
    "final_df = ping_df.join(cross_df.alias(\"cross\"), (f.expr(\"ais.MMSI = cross.MMSI AND ais.BaseDateTime = cross.BaseDateTime\")), \"left_outer\")"
   ]
  },
  {
   "cell_type": "code",
   "execution_count": null,
   "id": "bb1cbf75",
   "metadata": {},
   "outputs": [],
   "source": [
    "ais_df.count()"
   ]
  },
  {
   "cell_type": "code",
   "execution_count": null,
   "id": "0e41534e",
   "metadata": {},
   "outputs": [],
   "source": [
    "final_df = final_df.select(\"ais.MMSI\", \"ais.BaseDateTime\", \"ais.LAT\", \"ais.LON\", \"d\", \"UNLOCODE\").fillna(\"None\", \"UNLOCODE\")"
   ]
  },
  {
   "cell_type": "code",
   "execution_count": null,
   "id": "e20379c2",
   "metadata": {},
   "outputs": [],
   "source": [
    "final_df.groupBy(\"UNLOCODE\").agg(f.count(\"*\")).show()"
   ]
  },
  {
   "cell_type": "code",
   "execution_count": 4,
   "id": "c341b22c",
   "metadata": {},
   "outputs": [
    {
     "name": "stderr",
     "output_type": "stream",
     "text": [
      "                                                                                \r"
     ]
    }
   ],
   "source": [
    "test_df = spark.read.parquet(\"gs://vessel-traffic-parquet-data/raw_day/year=2024/month=11/AIS_2024_11_08.parquet\")"
   ]
  },
  {
   "cell_type": "code",
   "execution_count": null,
   "id": "6a2a0945",
   "metadata": {},
   "outputs": [],
   "source": [
    "test_df.createOrReplaceTempView(\"temp\")\n",
    "spark.sql(\"SELECT * FROM temp WHERE sec_since_prev_ping = (SELECT MAX(sec_since_prev_ping) FROM temp)\").show()"
   ]
  },
  {
   "cell_type": "code",
   "execution_count": null,
   "id": "5c6671ec",
   "metadata": {},
   "outputs": [],
   "source": [
    "test_df.count()"
   ]
  },
  {
   "cell_type": "code",
   "execution_count": null,
   "id": "73bf980b",
   "metadata": {},
   "outputs": [
    {
     "name": "stderr",
     "output_type": "stream",
     "text": [
      "[Stage 2:>                                                          (0 + 6) / 6]\r"
     ]
    }
   ],
   "source": [
    "test_df.filter(near_coastline_polygon(f.col(\"LAT\"), f.col(\"LON\")) == True).count()"
   ]
  },
  {
   "cell_type": "code",
   "execution_count": null,
   "id": "b917831c",
   "metadata": {},
   "outputs": [],
   "source": []
  }
 ],
 "metadata": {
  "kernelspec": {
   "display_name": "Python 3",
   "language": "python",
   "name": "python3"
  },
  "language_info": {
   "codemirror_mode": {
    "name": "ipython",
    "version": 3
   },
   "file_extension": ".py",
   "mimetype": "text/x-python",
   "name": "python",
   "nbconvert_exporter": "python",
   "pygments_lexer": "ipython3",
   "version": "3.10.12"
  }
 },
 "nbformat": 4,
 "nbformat_minor": 5
}

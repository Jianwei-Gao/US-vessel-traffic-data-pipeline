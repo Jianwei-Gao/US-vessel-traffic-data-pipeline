{
 "cells": [
  {
   "cell_type": "code",
   "execution_count": 25,
   "id": "9d011247",
   "metadata": {},
   "outputs": [],
   "source": [
    "from pyspark import SparkConf\n",
    "from pyspark.sql import SparkSession\n",
    "import pyspark.sql.functions as f\n",
    "from pyspark.sql.window import Window\n",
    "from pyspark.sql.types import *\n",
    "# import polars as pl\n",
    "import pandas as pd"
   ]
  },
  {
   "cell_type": "code",
   "execution_count": 26,
   "id": "1568f430",
   "metadata": {},
   "outputs": [],
   "source": [
    "conf = SparkConf().set('spark.ui.port', '4045')\\\n",
    "  .set(\"google.cloud.auth.service.account.enable\", \"true\")\\\n",
    "  .set(\"google.cloud.auth.service.account.json.keyfile\", \"/opt/spark/credentials/google-credential.json\")\n",
    "spark = SparkSession.builder.appName(\"test\").config(conf = conf).master(\"local[*]\").getOrCreate()\n",
    "# spark.conf.set(\"google.cloud.auth.service.account.enable\", \"true\") \n",
    "# spark.conf.set(\"google.cloud.auth.service.account.json.keyfile\", \"/opt/spark/credentials/google-credential.json\")"
   ]
  },
  {
   "cell_type": "code",
   "execution_count": 27,
   "id": "852a78ab",
   "metadata": {},
   "outputs": [],
   "source": [
    "def get_spark_schema():\n",
    "  from pyspark.sql.types import StructType, StructField, IntegerType, TimestampType, FloatType, DoubleType, StringType\n",
    "  return StructType([\n",
    "    StructField(\"MMSI\", StringType(), False),\n",
    "    StructField(\"BaseDateTime\", TimestampType(), False),\n",
    "    StructField(\"LAT\", DoubleType(), False),\n",
    "    StructField(\"LON\", DoubleType(), False),\n",
    "    StructField(\"SOG\", FloatType(), False),\n",
    "    StructField(\"COG\", FloatType(), False),\n",
    "    StructField(\"Heading\", FloatType(), True),\n",
    "    StructField(\"VesselName\", StringType(), True),\n",
    "    StructField(\"IMO\", StringType(), True),\n",
    "    StructField(\"CallSign\", StringType(), True),\n",
    "    StructField(\"VesselType\", ShortType(), True),\n",
    "    StructField(\"Status\", ShortType(), True),\n",
    "    StructField(\"Length\", FloatType(), True),\n",
    "    StructField(\"Width\", FloatType(), True),\n",
    "    StructField(\"Draft\", FloatType(), True),\n",
    "    StructField(\"Cargo\", StringType(), True),\n",
    "    StructField(\"TransceiverClass\", StringType(), False)\n",
    "  ])"
   ]
  },
  {
   "cell_type": "code",
   "execution_count": 28,
   "id": "a1d272ed",
   "metadata": {},
   "outputs": [],
   "source": [
    "bucket_path = \"gs://vessel-traffic-parquet-data/\"\n",
    "file_path = \"raw_day/year=2024/month=1/AIS_2024_01_01.parquet\"\n",
    "spark_df = spark.read.schema(get_spark_schema()).format(\"parquet\").load(bucket_path + file_path)\n",
    "spark_df = spark_df.filter((f.length(f.col(\"MMSI\")) == 9) & (f.abs(f.col(\"LAT\")) <= 90) & (f.abs(f.col(\"LON\")) <= 180))\n",
    "vessel_profile_df = spark_df.select(\"MMSI\", \"VesselName\", \"IMO\", \"CallSign\", \"VesselType\", \"Length\", \"Width\").distinct()\n",
    "ais_df = spark_df.select(\"MMSI\",\"BaseDateTime\",\"LAT\",\"LON\",\"SOG\",\"COG\",\"Heading\",\"Status\",\"Draft\",\"Cargo\",\"TransceiverClass\")"
   ]
  },
  {
   "cell_type": "code",
   "execution_count": 5,
   "id": "96192ad9",
   "metadata": {},
   "outputs": [
    {
     "data": {
      "text/plain": [
       "StructType([StructField('MMSI', StringType(), True), StructField('BaseDateTime', TimestampType(), True), StructField('LAT', DoubleType(), True), StructField('LON', DoubleType(), True), StructField('SOG', FloatType(), True), StructField('COG', FloatType(), True), StructField('Heading', FloatType(), True), StructField('VesselName', StringType(), True), StructField('IMO', StringType(), True), StructField('CallSign', StringType(), True), StructField('VesselType', ShortType(), True), StructField('Status', ShortType(), True), StructField('Length', FloatType(), True), StructField('Width', FloatType(), True), StructField('Draft', FloatType(), True), StructField('Cargo', StringType(), True), StructField('TransceiverClass', StringType(), True)])"
      ]
     },
     "execution_count": 5,
     "metadata": {},
     "output_type": "execute_result"
    }
   ],
   "source": [
    "spark_df.schema"
   ]
  },
  {
   "cell_type": "code",
   "execution_count": 23,
   "id": "17a7dd43",
   "metadata": {},
   "outputs": [
    {
     "name": "stderr",
     "output_type": "stream",
     "text": [
      "[Stage 19:==================================================>     (20 + 2) / 22]\r"
     ]
    },
    {
     "name": "stdout",
     "output_type": "stream",
     "text": [
      "+----+------------+---+---+---+---+-------+----------+---+--------+----------+------+------+-----+-----+-----+----------------+\n",
      "|MMSI|BaseDateTime|LAT|LON|SOG|COG|Heading|VesselName|IMO|CallSign|VesselType|Status|Length|Width|Draft|Cargo|TransceiverClass|\n",
      "+----+------------+---+---+---+---+-------+----------+---+--------+----------+------+------+-----+-----+-----+----------------+\n",
      "+----+------------+---+---+---+---+-------+----------+---+--------+----------+------+------+-----+-----+-----+----------------+\n",
      "\n"
     ]
    },
    {
     "name": "stderr",
     "output_type": "stream",
     "text": [
      "                                                                                \r"
     ]
    }
   ],
   "source": [
    "spark_df.filter(f.isnull(f.col(\"MMSI\"))).show()"
   ]
  },
  {
   "cell_type": "code",
   "execution_count": 5,
   "id": "a93441fc",
   "metadata": {},
   "outputs": [
    {
     "name": "stderr",
     "output_type": "stream",
     "text": [
      "[Stage 0:>                                                          (0 + 1) / 1]\r"
     ]
    },
    {
     "name": "stdout",
     "output_type": "stream",
     "text": [
      "+---------+-------------------+--------+----------+----+-----+-------+--------------------+----------+--------+----------+------+------+-----+-----+-----+----------------+\n",
      "|     MMSI|       BaseDateTime|     LAT|       LON| SOG|  COG|Heading|          VesselName|       IMO|CallSign|VesselType|Status|Length|Width|Draft|Cargo|TransceiverClass|\n",
      "+---------+-------------------+--------+----------+----+-----+-------+--------------------+----------+--------+----------+------+------+-----+-----+-----+----------------+\n",
      "|338075892|2024-01-01 00:00:03|43.65322| -70.25298| 0.0|358.8|  511.0|PILOT BOAT SPRING PT|      NULL| WDB8945|        90|     0|   0.0|  0.0|  0.0|   90|               A|\n",
      "|367669550|2024-01-01 00:00:04|46.20031|-123.38573| 0.0|281.9|  141.0|   ALASKA CHALLENGER|IMO7938024| WDH9586|        30|    15|  30.0|  8.0|  0.0|   30|               A|\n",
      "|367118980|2024-01-01 00:00:06|29.98534| -90.40674| 0.0| 30.1|  296.0|     CAPT J A MORGAN|IMO1186680| WDD2725|        31|    12| 115.0| 34.0|  3.0|   57|               A|\n",
      "|367177840|2024-01-01 00:00:05|39.88654| -75.17649| 0.0|304.4|  511.0|       BART TURECAMO|IMO7338808| WBR4464|        52|    15|  33.0|  5.0|  0.0|   52|               A|\n",
      "|367305420|2024-01-01 00:00:06|18.33273| -64.95229| 0.0|332.6|  511.0|       DOROTHY MORAN|IMO7716995| WXU4654|        52|     0|  33.0| 11.0|  0.0|   52|               A|\n",
      "|338239081|2024-01-01 00:00:05|38.95731|  -76.4841| 0.1|111.3|  511.0|              JAHAZI|IMO0000000|    NULL|        36|  NULL|  12.0|  4.0| NULL| NULL|               B|\n",
      "|367507960|2024-01-01 00:00:02|33.75386|-118.22404| 0.0|281.8|  511.0|      DB SALTA VERDE|      NULL| WDF9705|        90|     3|  56.0| 15.0|  2.0|   90|               A|\n",
      "|636018568|2024-01-01 00:00:04|29.27798| -94.59552|10.5|140.7|  143.0|        VIVIT ALTAIS|IMO9840879|   D5QH3|        80|     0| 230.0| 32.0| 11.8|   80|               A|\n",
      "|366847780|2024-01-01 00:00:03|30.18136| -87.67583| 7.6|259.0|  262.0|        PACIFIC DAWN|IMO7400467| WDA7844|        31|     0|  30.0|  8.0|  5.0|   31|               A|\n",
      "|367468580|2024-01-01 00:00:04|29.97021| -90.24457| 0.0|144.3|  511.0|         EMMA CLAIRE|      NULL| WDF5910|        31|     0|  20.0|  7.0|  2.0|   31|               A|\n",
      "|367072840|2024-01-01 00:00:02| 29.5772| -90.60772| 0.0|305.7|  178.0|      KELLY MORRISON|IMO8216485| WDC7532|        34|     0|  60.0| 18.0| 13.3|   34|               A|\n",
      "|368001250|2024-01-01 00:00:08|29.73652| -95.27787| 0.1|351.4|  161.0|           GRAND ANN|IMO0639580| WDJ6890|        52|     3|  97.0| 36.0|  3.0|   52|               A|\n",
      "|366997450|2024-01-01 00:00:03|30.52843| -88.11744| 0.0|306.2|  511.0|            LA BELLE|IMO0000097| WDC2767|        31|     0|  20.0| 16.0|  2.5|   31|               A|\n",
      "|367767310|2024-01-01 00:00:06|27.84387| -97.06975| 1.4|314.5|  511.0|   MICHAEL W BEHRENS|      NULL| WDJ3363|        60|     0|  48.0| 16.0|  3.3|   60|               A|\n",
      "|367002380|2024-01-01 00:00:00|30.11553| -90.99878| 3.0| 16.2|  511.0|          FREEDOM_II|      NULL| WDN7105|        31|    15|  20.0|  9.0|  9.0|   31|               A|\n",
      "|366952790|2024-01-01 00:00:00|40.70003| -74.01225| 0.4|303.0|  160.0|      GUY V MOLINARI|IMO9333486| WDB8295|        60|     0| 100.0| 24.0|  4.0|   60|               A|\n",
      "|367691010|2024-01-01 00:00:00|41.32739| -70.11074|14.6|334.3|  333.0|          WOODS HOLE|IMO9792931| WDI3700|        60|     0|  70.0| 18.0|  4.0|   60|               A|\n",
      "|368102470|2024-01-01 00:00:01| 30.0623| -90.87162| 5.7|285.2|  511.0|            JOANNE C|      NULL| WDK9314|        52|     0|  23.0|  8.0|  3.0|   52|               A|\n",
      "|368327980|2024-01-01 00:00:01|40.64431| -74.11334| 0.0|360.0|  511.0|         HENRY GIRLS|      NULL| WDN9539|        52|     0|  75.0| 26.0|  0.0|   52|               A|\n",
      "|368055190|2024-01-01 00:00:00|29.42377| -94.72035| 0.0|138.4|   47.0|        BRADY DAWSON|IMO1289289| WDK4438|        52|    12| 119.0| 34.0|  3.0|   52|               A|\n",
      "+---------+-------------------+--------+----------+----+-----+-------+--------------------+----------+--------+----------+------+------+-----+-----+-----+----------------+\n",
      "only showing top 20 rows\n"
     ]
    },
    {
     "name": "stderr",
     "output_type": "stream",
     "text": [
      "                                                                                \r"
     ]
    }
   ],
   "source": [
    "spark_df.show()\n",
    "# cols_with_nulls = [x for x in spark_df.columns if spark_df.filter(f.col(x).isNull()).count() > 0]\n",
    "# cols_with_emptystring = [x for x in spark_df.columns if spark_df.filter(f.col(x).isNull()).count() > 0]"
   ]
  },
  {
   "cell_type": "code",
   "execution_count": null,
   "id": "db542aeb",
   "metadata": {},
   "outputs": [],
   "source": [
    "#documentation regarding \"invalid/not accessable/default\" values on:\n",
    "#https://www.navcen.uscg.gov/ais-class-a-reports\n",
    "\n",
    "#replace values for \"invalid/not accessable/default\" to Null for non-categorial field \n",
    "vessel_profile_df = vessel_profile_df.replace(\"IMO0000000\", None, \"IMO\")\n",
    "vessel_profile_df = vessel_profile_df.replace(0, None, [\"Length\", \"Width\"])\n",
    "ais_df = ais_df.replace(511.0, None, \"Heading\")\n",
    "ais_df = ais_df.replace(102.3, None, \"SOG\")\n",
    "ais_df = ais_df.replace(360, None, \"COG\")\n",
    "ais_df = ais_df.replace(0, None, \"Draft\")\n",
    "\n",
    "#replace null to encoded \"invalid/not accessable/default\" values for categorial field\n",
    "vessel_profile_df = vessel_profile_df.fillna(0, \"VesselType\")\n",
    "ais_df = ais_df.fillna(15, \"Status\")\n",
    "ais_df = ais_df.fillna(0, \"Cargo\")"
   ]
  },
  {
   "cell_type": "code",
   "execution_count": 10,
   "id": "89bf0995",
   "metadata": {},
   "outputs": [
    {
     "name": "stderr",
     "output_type": "stream",
     "text": [
      "[Stage 19:>                                                         (0 + 1) / 1]\r"
     ]
    },
    {
     "name": "stdout",
     "output_type": "stream",
     "text": [
      "+---------+-------------------+--------+----------+----+-----+-------+------+-----+-----+----------------+\n",
      "|     MMSI|       BaseDateTime|     LAT|       LON| SOG|  COG|Heading|Status|Draft|Cargo|TransceiverClass|\n",
      "+---------+-------------------+--------+----------+----+-----+-------+------+-----+-----+----------------+\n",
      "|338075892|2024-01-01 00:00:03|43.65322| -70.25298| 0.0|358.8|   NULL|     0| NULL|   90|               A|\n",
      "|367669550|2024-01-01 00:00:04|46.20031|-123.38573| 0.0|281.9|  141.0|    15| NULL|   30|               A|\n",
      "|367118980|2024-01-01 00:00:06|29.98534| -90.40674| 0.0| 30.1|  296.0|    12|  3.0|   57|               A|\n",
      "|367177840|2024-01-01 00:00:05|39.88654| -75.17649| 0.0|304.4|   NULL|    15| NULL|   52|               A|\n",
      "|367305420|2024-01-01 00:00:06|18.33273| -64.95229| 0.0|332.6|   NULL|     0| NULL|   52|               A|\n",
      "|338239081|2024-01-01 00:00:05|38.95731|  -76.4841| 0.1|111.3|   NULL|    15| NULL| NULL|               B|\n",
      "|367507960|2024-01-01 00:00:02|33.75386|-118.22404| 0.0|281.8|   NULL|     3|  2.0|   90|               A|\n",
      "|636018568|2024-01-01 00:00:04|29.27798| -94.59552|10.5|140.7|  143.0|     0| 11.8|   80|               A|\n",
      "|366847780|2024-01-01 00:00:03|30.18136| -87.67583| 7.6|259.0|  262.0|     0|  5.0|   31|               A|\n",
      "|367468580|2024-01-01 00:00:04|29.97021| -90.24457| 0.0|144.3|   NULL|     0|  2.0|   31|               A|\n",
      "|367072840|2024-01-01 00:00:02| 29.5772| -90.60772| 0.0|305.7|  178.0|     0| 13.3|   34|               A|\n",
      "|368001250|2024-01-01 00:00:08|29.73652| -95.27787| 0.1|351.4|  161.0|     3|  3.0|   52|               A|\n",
      "|366997450|2024-01-01 00:00:03|30.52843| -88.11744| 0.0|306.2|   NULL|     0|  2.5|   31|               A|\n",
      "|367767310|2024-01-01 00:00:06|27.84387| -97.06975| 1.4|314.5|   NULL|     0|  3.3|   60|               A|\n",
      "|367002380|2024-01-01 00:00:00|30.11553| -90.99878| 3.0| 16.2|   NULL|    15|  9.0|   31|               A|\n",
      "|366952790|2024-01-01 00:00:00|40.70003| -74.01225| 0.4|303.0|  160.0|     0|  4.0|   60|               A|\n",
      "|367691010|2024-01-01 00:00:00|41.32739| -70.11074|14.6|334.3|  333.0|     0|  4.0|   60|               A|\n",
      "|368102470|2024-01-01 00:00:01| 30.0623| -90.87162| 5.7|285.2|   NULL|     0|  3.0|   52|               A|\n",
      "|368327980|2024-01-01 00:00:01|40.64431| -74.11334| 0.0| NULL|   NULL|     0| NULL|   52|               A|\n",
      "|368055190|2024-01-01 00:00:00|29.42377| -94.72035| 0.0|138.4|   47.0|    12|  3.0|   52|               A|\n",
      "+---------+-------------------+--------+----------+----+-----+-------+------+-----+-----+----------------+\n",
      "only showing top 20 rows\n"
     ]
    },
    {
     "name": "stderr",
     "output_type": "stream",
     "text": [
      "                                                                                \r"
     ]
    }
   ],
   "source": [
    "ais_df.show()"
   ]
  },
  {
   "cell_type": "code",
   "execution_count": 11,
   "id": "28ade028",
   "metadata": {},
   "outputs": [
    {
     "name": "stderr",
     "output_type": "stream",
     "text": [
      "[Stage 20:=====================================================>  (45 + 2) / 47]\r"
     ]
    },
    {
     "name": "stdout",
     "output_type": "stream",
     "text": [
      "+---------+-----------------+----------+--------+----------+------+-----+\n",
      "|     MMSI|       VesselName|       IMO|CallSign|VesselType|Length|Width|\n",
      "+---------+-----------------+----------+--------+----------+------+-----+\n",
      "|367083580|         ROCKFISH|IMO8998954| WDC8223|        52|  24.0| 11.0|\n",
      "|367338000|     HARVEY POWER|IMO9654232|    KVEY|        70|  92.0| 20.0|\n",
      "|368128050|            ROYAL|IMO2855411| WDL4095|        60|  14.0|  5.0|\n",
      "|368293190|ISABELLA JULIETTE|IMO1326320| WDN5797|        52|  24.0| 10.0|\n",
      "|366982180|     C-TRACTOR 10|IMO8875463| WCO3210|        52|  25.0| 10.0|\n",
      "|368339870|            KIAKI|      NULL| WDP2829|        37|  14.0|  4.0|\n",
      "|538009654|    CLIPPER CLYDE|IMO9455911| V7A5002|        70| 177.0| 27.0|\n",
      "|367385380|          VICTORY|      NULL| WDH8434|        37|  30.0|  7.0|\n",
      "|368020980|       ASSATEAGUE|IMO9816892| WDJ8905|        31| 145.0| 17.0|\n",
      "|367181290|             NYAD|      NULL| WDL8733|        36|  16.0|  5.0|\n",
      "|477890100|  ZIM MOUNT BLANC|IMO9931111|   VRUX9|        70| 366.0| 51.0|\n",
      "|310799000|            ANAWA|IMO9814351|   ZCEZ6|        37|  62.0| 14.0|\n",
      "|338108662|          CASTIGO|      NULL|   CUWM8|        37|   5.0|  6.0|\n",
      "|338493612|          RONCITO|      NULL| RONCITO|        37|  16.0|  6.0|\n",
      "|368316140| STAR DOGGED MOON|      NULL| WDN8288|        36|  13.0| 14.0|\n",
      "|354429000|      GLOBAL KOMA|IMO9805726|   3EBM3|        70| 190.0| 32.0|\n",
      "|370756000|     T MATTERHORN|IMO9555292|   3EYC5|        89| 180.0| 32.0|\n",
      "|369552000|     BLUE DOLPHIN|IMO9529724| WDE9988|        30|  92.0| 19.0|\n",
      "|368040150|     GOOD FORTUNE|      NULL| WDK2913|        37|  20.0|  6.0|\n",
      "|232003506|      WELSH PIPER|IMO8611491|   MGKA8|        33|  69.0| 12.0|\n",
      "+---------+-----------------+----------+--------+----------+------+-----+\n",
      "only showing top 20 rows\n"
     ]
    },
    {
     "name": "stderr",
     "output_type": "stream",
     "text": [
      "                                                                                \r"
     ]
    }
   ],
   "source": [
    "vessel_profile_df.show()"
   ]
  },
  {
   "cell_type": "code",
   "execution_count": 7,
   "id": "2c45cf88",
   "metadata": {},
   "outputs": [
    {
     "name": "stderr",
     "output_type": "stream",
     "text": [
      "[Stage 3:======================================================>  (21 + 1) / 22]\r"
     ]
    },
    {
     "name": "stdout",
     "output_type": "stream",
     "text": [
      "+----+------------+---+---+---+---+-------+------+-----+-----+----------------+\n",
      "|MMSI|BaseDateTime|LAT|LON|SOG|COG|Heading|Status|Draft|Cargo|TransceiverClass|\n",
      "+----+------------+---+---+---+---+-------+------+-----+-----+----------------+\n",
      "+----+------------+---+---+---+---+-------+------+-----+-----+----------------+\n",
      "\n"
     ]
    },
    {
     "name": "stderr",
     "output_type": "stream",
     "text": [
      "                                                                                \r"
     ]
    }
   ],
   "source": [
    "ais_df.filter((f.abs(f.col(\"LAT\")) > 90) | (f.abs(f.col(\"LON\")) > 180)).show()"
   ]
  },
  {
   "cell_type": "code",
   "execution_count": 32,
   "id": "c9e7d690",
   "metadata": {},
   "outputs": [
    {
     "name": "stderr",
     "output_type": "stream",
     "text": [
      "[Stage 32:==============>                                           (1 + 3) / 4]\r"
     ]
    },
    {
     "name": "stdout",
     "output_type": "stream",
     "text": [
      "+----+----------+---+--------+----------+------+-----+\n",
      "|MMSI|VesselName|IMO|CallSign|VesselType|Length|Width|\n",
      "+----+----------+---+--------+----------+------+-----+\n",
      "+----+----------+---+--------+----------+------+-----+\n",
      "\n"
     ]
    },
    {
     "name": "stderr",
     "output_type": "stream",
     "text": [
      "[Stage 32:===========================================>              (3 + 1) / 4]\r"
     ]
    }
   ],
   "source": [
    "vessel_profile_df.filter(f.expr(\"VesselName like '@'\")).show()"
   ]
  },
  {
   "cell_type": "code",
   "execution_count": 8,
   "id": "8d84a46a",
   "metadata": {},
   "outputs": [
    {
     "name": "stderr",
     "output_type": "stream",
     "text": [
      "                                                                                \r"
     ]
    }
   ],
   "source": [
    "if vessel_profile_df.count() != vessel_profile_df.select(\"MMSI\").distinct().count():\n",
    "  vessel_profile_df.groupBy(\"MMSI\").count().filter(f.expr(\"count > 1\")).sort(f.desc(\"count\")).show()"
   ]
  },
  {
   "cell_type": "code",
   "execution_count": null,
   "id": "c38fa9ba",
   "metadata": {},
   "outputs": [
    {
     "name": "stderr",
     "output_type": "stream",
     "text": [
      "[Stage 4:=======================================================> (46 + 1) / 47]\r"
     ]
    },
    {
     "name": "stdout",
     "output_type": "stream",
     "text": [
      "+-----------+\n",
      "|MMSI-Length|\n",
      "+-----------+\n",
      "|          1|\n",
      "|          9|\n",
      "|          4|\n",
      "|          8|\n",
      "|          7|\n",
      "|         10|\n",
      "|          3|\n",
      "|          2|\n",
      "|          6|\n",
      "+-----------+\n",
      "\n"
     ]
    },
    {
     "name": "stderr",
     "output_type": "stream",
     "text": [
      "                                                                                \r"
     ]
    }
   ],
   "source": [
    "vessel_profile_df.select(f.length(f.col(\"MMSI\")).alias(\"MMSI-Length\")).distinct().show()"
   ]
  },
  {
   "cell_type": "code",
   "execution_count": 10,
   "id": "7597fa0b",
   "metadata": {},
   "outputs": [
    {
     "name": "stderr",
     "output_type": "stream",
     "text": [
      "[Stage 7:=======================================================> (46 + 1) / 47]\r"
     ]
    },
    {
     "name": "stdout",
     "output_type": "stream",
     "text": [
      "+-----------+-----+\n",
      "|MMSI-Length|count|\n",
      "+-----------+-----+\n",
      "|          9|33580|\n",
      "|          8|   28|\n",
      "|          7|   17|\n",
      "|          1|    3|\n",
      "|          3|    1|\n",
      "|          4|    1|\n",
      "|         10|    3|\n",
      "|          6|    1|\n",
      "|          2|    1|\n",
      "+-----------+-----+\n",
      "\n"
     ]
    },
    {
     "name": "stderr",
     "output_type": "stream",
     "text": [
      "                                                                                \r"
     ]
    }
   ],
   "source": [
    "vessel_profile_df.select(f.length(f.col(\"MMSI\")).alias(\"MMSI-Length\")).groupBy(f.col(\"MMSI-Length\")).count().show()"
   ]
  },
  {
   "cell_type": "code",
   "execution_count": 11,
   "id": "da1a286d",
   "metadata": {},
   "outputs": [
    {
     "name": "stderr",
     "output_type": "stream",
     "text": [
      "[Stage 13:======================================================> (46 + 1) / 47]\r"
     ]
    },
    {
     "name": "stdout",
     "output_type": "stream",
     "text": [
      "+----------+--------------------+------------+--------+----------+------+-----+\n",
      "|      MMSI|          VesselName|         IMO|CallSign|VesselType|Length|Width|\n",
      "+----------+--------------------+------------+--------+----------+------+-----+\n",
      "|      4061|        BOOSTER 9000|        NULL| 0000000|        33|  NULL| NULL|\n",
      "|   3660489|         NEPTUNE TLP|  IMO0745081| WQGV318|        99|  89.0| 60.0|\n",
      "|1072211352|           SHAMBHALA|        NULL| WDG7537|        37|  30.0|  6.0|\n",
      "|   3381234|            ZEEPAARD|        NULL| BO12345|        36|  NULL| NULL|\n",
      "|       111|            BOOMVANG|  IMO0000001|   EB643|        90|  47.0| 35.0|\n",
      "|   3791472|         LUCIUS SPAR|  IMO1108561|  WQXP40|        80|  NULL| NULL|\n",
      "|        11|        CONSTITUTION|  IMO0000007|  GC 680|        90|  53.0| 38.0|\n",
      "|   1234567|            ST000001|        NULL| BO12345|         1|  NULL| NULL|\n",
      "|   1193046|           NAUTICAST|IMO303174162|  D11233|        50| 220.0| 43.0|\n",
      "|   1056261|      CHAMPAGNE CHER|  IMO1056261| WDC6418|        10|  35.0|  8.0|\n",
      "|         1|        EVENING STAR|        NULL| WCV5672|        30|  21.0|  6.0|\n",
      "|  90120060|           PERLA PP1| IMO21902140|   BR549|        99|  NULL| NULL|\n",
      "|         0|             CG49420|        NULL|    NWHE|        51|  82.0| 12.0|\n",
      "|  36926403|          WARSHIP 25|        NULL|    NMNE|        35|  NULL| NULL|\n",
      "|  36968098|US GOVERNMENT VESSEL|        NULL|    NULL|         0|  NULL| NULL|\n",
      "|  99043470|                NULL|        NULL|    NULL|         0|  NULL| NULL|\n",
      "|  91481544|                NULL|        NULL|    NULL|         0|  NULL| NULL|\n",
      "|  99998800|                NULL|        NULL|    NULL|         0|  NULL| NULL|\n",
      "|1054006152|                NULL|        NULL|    NULL|         0|  NULL| NULL|\n",
      "|1072339762|                WQ52|        NULL|    NULL|        37|  18.0|  3.0|\n",
      "+----------+--------------------+------------+--------+----------+------+-----+\n",
      "only showing top 20 rows\n"
     ]
    },
    {
     "name": "stderr",
     "output_type": "stream",
     "text": [
      "                                                                                \r"
     ]
    }
   ],
   "source": [
    "vessel_profile_df.filter(f.length(f.col(\"MMSI\")) != 9).show()"
   ]
  },
  {
   "cell_type": "code",
   "execution_count": 17,
   "id": "22308ba7",
   "metadata": {},
   "outputs": [
    {
     "name": "stderr",
     "output_type": "stream",
     "text": [
      "[Stage 30:>                                                         (0 + 1) / 1]\r"
     ]
    },
    {
     "name": "stdout",
     "output_type": "stream",
     "text": [
      "+--------+-------------------+--------+---------+---+-----+-------+------+-----+-----+----------------+\n",
      "|    MMSI|       BaseDateTime|     LAT|      LON|SOG|  COG|Heading|Status|Draft|Cargo|TransceiverClass|\n",
      "+--------+-------------------+--------+---------+---+-----+-------+------+-----+-----+----------------+\n",
      "|36968098|2024-01-01 00:00:07| 36.9512|-76.32952|0.1|128.8|   NULL|     0| NULL|    0|               A|\n",
      "|36968098|2024-01-01 00:01:17| 36.9512|-76.32949|0.1|123.6|   NULL|     0| NULL|    0|               A|\n",
      "|36968098|2024-01-01 00:02:27|36.95116|-76.32936|0.0|126.3|   NULL|     0| NULL|    0|               A|\n",
      "|36968098|2024-01-01 00:04:48|36.95121|-76.32954|0.1|125.6|   NULL|     0| NULL|    0|               A|\n",
      "|36968098|2024-01-01 00:07:06|36.95118|-76.32943|0.1|125.4|   NULL|     0| NULL|    0|               A|\n",
      "|36968098|2024-01-01 00:03:37|36.95123|-76.32957|0.1|110.1|   NULL|     0| NULL|    0|               A|\n",
      "|36968098|2024-01-01 00:08:07|36.95122|-76.32946|0.0|113.0|   NULL|     0| NULL|    0|               A|\n",
      "|36968098|2024-01-01 00:09:18|36.95117|-76.32936|0.0|114.1|   NULL|     0| NULL|    0|               A|\n",
      "|36968098|2024-01-01 00:11:37|36.95121|-76.32949|0.1|124.5|   NULL|     0| NULL|    0|               A|\n",
      "|36968098|2024-01-01 00:12:48| 36.9512| -76.3294|0.1|132.1|   NULL|     0| NULL|    0|               A|\n",
      "|36968098|2024-01-01 00:05:57|36.95116|-76.32942|0.0|118.7|   NULL|     0| NULL|    0|               A|\n",
      "|36968098|2024-01-01 00:17:27|36.95116|-76.32946|0.0|137.4|   NULL|     0| NULL|    0|               A|\n",
      "|36968098|2024-01-01 00:18:38|36.95116|-76.32947|0.1|118.5|   NULL|     0| NULL|    0|               A|\n",
      "|36968098|2024-01-01 00:19:47|36.95121|-76.32953|0.1|107.4|   NULL|     0| NULL|    0|               A|\n",
      "|36968098|2024-01-01 00:20:57|36.95123|-76.32943|0.0|104.9|   NULL|     0| NULL|    0|               A|\n",
      "|36968098|2024-01-01 00:13:57|36.95122|-76.32936|0.1|119.5|   NULL|     0| NULL|    0|               A|\n",
      "|36968098|2024-01-01 00:16:17|36.95118|-76.32949|0.1|109.6|   NULL|     0| NULL|    0|               A|\n",
      "|36968098|2024-01-01 00:25:36|36.95115|-76.32947|0.0|104.3|   NULL|     0| NULL|    0|               A|\n",
      "|36968098|2024-01-01 00:24:27|36.95116|-76.32952|0.0|129.7|   NULL|     0| NULL|    0|               A|\n",
      "|36968098|2024-01-01 00:27:47|36.95118| -76.3293|0.0|116.6|   NULL|     0| NULL|    0|               A|\n",
      "+--------+-------------------+--------+---------+---+-----+-------+------+-----+-----+----------------+\n",
      "only showing top 20 rows\n"
     ]
    },
    {
     "name": "stderr",
     "output_type": "stream",
     "text": [
      "                                                                                \r"
     ]
    }
   ],
   "source": [
    "ais_df.filter(f.col(\"MMSI\") == '36968098').show()"
   ]
  },
  {
   "cell_type": "code",
   "execution_count": 15,
   "id": "19163f32",
   "metadata": {},
   "outputs": [
    {
     "name": "stderr",
     "output_type": "stream",
     "text": [
      "[Stage 25:=====================================================>  (21 + 1) / 22]\r"
     ]
    },
    {
     "name": "stdout",
     "output_type": "stream",
     "text": [
      "+--------+-------------------+--------+--------+---+-----+-------+------+-----+-----+----------------+\n",
      "|    MMSI|       BaseDateTime|     LAT|     LON|SOG|  COG|Heading|Status|Draft|Cargo|TransceiverClass|\n",
      "+--------+-------------------+--------+--------+---+-----+-------+------+-----+-----+----------------+\n",
      "|99043470|2024-01-01 04:48:22|45.21632|-122.682|0.0|220.2|   NULL|     0| NULL| NULL|               A|\n",
      "+--------+-------------------+--------+--------+---+-----+-------+------+-----+-----+----------------+\n",
      "\n"
     ]
    },
    {
     "name": "stderr",
     "output_type": "stream",
     "text": [
      "                                                                                \r"
     ]
    }
   ],
   "source": [
    "ais_df.filter(f.col(\"MMSI\") == '99043470').show()"
   ]
  },
  {
   "cell_type": "code",
   "execution_count": 16,
   "id": "8d4d455a",
   "metadata": {},
   "outputs": [
    {
     "name": "stderr",
     "output_type": "stream",
     "text": [
      "[Stage 29:=====================================================>  (21 + 1) / 22]\r"
     ]
    },
    {
     "name": "stdout",
     "output_type": "stream",
     "text": [
      "+--------+-------------------+--------+----------+----+-----+-------+------+-----+-----+----------------+\n",
      "|    MMSI|       BaseDateTime|     LAT|       LON| SOG|  COG|Heading|Status|Draft|Cargo|TransceiverClass|\n",
      "+--------+-------------------+--------+----------+----+-----+-------+------+-----+-----+----------------+\n",
      "|91481544|2024-01-04 05:25:28|41.99946|-108.11237|25.8|314.2|  142.0|     4| NULL| NULL|               A|\n",
      "+--------+-------------------+--------+----------+----+-----+-------+------+-----+-----+----------------+\n",
      "\n"
     ]
    },
    {
     "name": "stderr",
     "output_type": "stream",
     "text": [
      "                                                                                \r"
     ]
    }
   ],
   "source": [
    "ais_df.filter(f.col(\"MMSI\") == '91481544').show()"
   ]
  },
  {
   "cell_type": "code",
   "execution_count": 6,
   "id": "d6695f49",
   "metadata": {},
   "outputs": [
    {
     "name": "stderr",
     "output_type": "stream",
     "text": [
      "                                                                                \r"
     ]
    },
    {
     "data": {
      "text/plain": [
       "110673"
      ]
     },
     "execution_count": 6,
     "metadata": {},
     "output_type": "execute_result"
    }
   ],
   "source": [
    "ais_df.filter(f.length(f.col(\"MMSI\")) != 9).count()"
   ]
  },
  {
   "cell_type": "code",
   "execution_count": 29,
   "id": "076122b1",
   "metadata": {},
   "outputs": [],
   "source": [
    "delta_phi = f.radians(f.expr(\"lead_LAT - LAT\"))\n",
    "delta_lambda = f.radians(f.expr(\"lead_LON - LON\"))\n",
    "a = f.pow(f.sin(delta_phi / 2), 2) + f.cos(f.radians(f.col(\"LAT\"))) * f.cos(f.radians(f.col(\"lead_LAT\"))) * f.pow(f.sin(delta_lambda)/2,2)\n",
    "c = 2 * f.atan2(f.sqrt(a), f.sqrt(1-a))\n",
    "d = 6371 * c"
   ]
  },
  {
   "cell_type": "code",
   "execution_count": null,
   "id": "6334520c",
   "metadata": {},
   "outputs": [
    {
     "name": "stdout",
     "output_type": "stream",
     "text": [
      "MMSI BaseDateTime LAT LON COG Heading Status Draft Cargo TransceiverClass\n"
     ]
    }
   ],
   "source": [
    "print(*[col for col in ais_df.columns if col != \"SOG\"])"
   ]
  },
  {
   "cell_type": "code",
   "execution_count": 50,
   "id": "57c68a62",
   "metadata": {},
   "outputs": [],
   "source": [
    "def col_select(col:str):\n",
    "  if col == \"SOG\":\n",
    "    return f.col(\"SOG\").alias(\"SOG'\")\n",
    "  else:\n",
    "    return f.col(col)"
   ]
  },
  {
   "cell_type": "code",
   "execution_count": 51,
   "id": "a5167f50",
   "metadata": {},
   "outputs": [],
   "source": [
    "windowSpec = Window.partitionBy(f.col(\"MMSI\")).orderBy(f.asc(f.col(\"BaseDateTime\")))\n",
    "#test_df = ais_df.select([col for col in ais_df.columns if col != \"SOG\"])\n",
    "test_df = ais_df.select(*[col_select(col) for col in ais_df.columns], \n",
    "                      f.lead(f.col(\"LAT\")).over(windowSpec).alias(\"lead_LAT\"),\n",
    "                      f.lead(f.col(\"LON\")).over(windowSpec).alias(\"lead_LON\"),\n",
    "                      f.lead(f.col(\"BaseDateTime\")).over(windowSpec).alias(\"lead_time\"),\n",
    "                      d.alias(\"d\"),\n",
    "                      \"SOG\"\n",
    "                      )"
   ]
  },
  {
   "cell_type": "code",
   "execution_count": null,
   "id": "f4f0a822",
   "metadata": {},
   "outputs": [
    {
     "name": "stderr",
     "output_type": "stream",
     "text": [
      "[Stage 20:>                                                         (0 + 1) / 1]\r"
     ]
    },
    {
     "name": "stdout",
     "output_type": "stream",
     "text": [
      "+---------+-------------------+--------+----------+----+-----+-------+------+-----+-----+----------------+--------+----------+-------------------+------------------+----+\n",
      "|     MMSI|       BaseDateTime|     LAT|       LON|SOG'|  COG|Heading|Status|Draft|Cargo|TransceiverClass|lead_LAT|  lead_LON|          lead_time|                 d| SOG|\n",
      "+---------+-------------------+--------+----------+----+-----+-------+------+-----+-----+----------------+--------+----------+-------------------+------------------+----+\n",
      "|209470000|2024-01-01 02:47:34| 28.2219| -89.07157|14.2|144.9|  143.0|     0| 12.9|   79|               A|28.01173| -88.89327|2024-01-01 03:54:09| 29.18767699366881|14.2|\n",
      "|210959000|2024-01-01 17:07:05|27.80652|   -86.833|11.6| 24.3|   25.0|     0|  5.2|   70|               A|28.24914| -86.62681|2024-01-01 21:20:04| 53.21568107121288|11.6|\n",
      "|212370000|2024-01-01 02:09:54|28.30315| -86.60223|10.6|202.0|  201.0|     0|  4.4|   70|               A| 28.1672| -86.66289|2024-01-01 03:00:14|16.243015323271596|10.6|\n",
      "|212370000|2024-01-01 05:50:55|27.70597| -86.87876|10.0|205.0|  201.0|     0|  4.4|   70|               A|27.37384| -87.05419|2024-01-01 08:00:56|40.780886435804724|10.0|\n",
      "|215126000|2024-01-01 05:50:22|38.77766| -73.58008| 8.7|188.7|  194.0|     0| 13.3|   71|               A|38.64796| -73.61007|2024-01-01 06:44:30|14.654838362431065| 8.7|\n",
      "|215126000|2024-01-01 07:18:31|38.57135| -73.64801| 8.7|202.9|  208.0|     0| 13.3|   71|               A|38.04377| -73.97097|2024-01-01 11:19:41| 65.08114615757634| 8.7|\n",
      "|215126000|2024-01-01 11:24:01|38.03437|  -73.9767| 8.6|205.4|  205.0|     0| 13.3|   71|               A|37.95025| -74.02678|2024-01-01 12:02:40|10.332081507764684| 8.6|\n",
      "|215126000|2024-01-01 12:34:11|37.88207| -74.06776| 8.5|205.8|  205.0|     0| 13.3|   71|               A|37.75959| -74.14278|2024-01-01 13:35:02|15.129530259174086| 8.5|\n",
      "|215217000|2024-01-01 14:03:21|15.67807| -64.88328|19.7|118.0|  115.0|     0| 12.4|   71|               A|15.47979| -64.53253|2024-01-01 15:15:45|  43.5602858370113|19.7|\n",
      "|215217000|2024-01-01 15:15:45|15.47979| -64.53253|19.6|121.6|  118.0|     0| 12.4|   71|               A|15.38839| -64.37217|2024-01-01 15:48:51| 19.96806620768048|19.6|\n",
      "|219671000|2024-01-01 01:47:46|26.65241| -90.02947|10.6|299.4|  298.0|     0|  7.6|   80|               A|27.42889| -91.68301|2024-01-01 12:04:27|185.11420678600794|10.6|\n",
      "|219671000|2024-01-01 14:09:57|27.59371| -92.03472|10.0|300.5|  300.0|     0|  7.6|   80|               A|27.82711| -92.54332|2024-01-01 17:19:27| 56.39372694296536|10.0|\n",
      "|219671000|2024-01-01 17:19:27|27.82711| -92.54332| 8.8|325.8|  330.0|     0|  7.6|   80|               A|28.02441| -92.69876|2024-01-01 18:53:08|  26.7306319909047| 8.8|\n",
      "|227532640|2024-01-01 00:05:54|20.65607|-156.49819| 6.8|179.3|  511.0|  NULL| NULL| NULL|               B|20.56919|-156.45139|2024-01-01 04:14:06|10.819054975209127| 6.8|\n",
      "|227532640|2024-01-01 05:30:03|20.46231|-156.40795| 5.5|162.1|  511.0|  NULL| NULL| NULL|               B|20.36625|-156.36826|2024-01-01 06:25:58|11.454243355950398| 5.5|\n",
      "|229074000|2024-01-01 16:32:37|18.33196| -64.95409| 0.0|270.0|  270.0|     5|  8.6|   60|               A|23.93267| -73.69352|2024-01-01 16:35:32|1097.0546666388616| 0.0|\n",
      "|229074000|2024-01-01 16:35:32|23.93267| -73.69352|22.6|128.0|  126.0|     0|  8.6|   60|               A|18.33196| -64.95409|2024-01-01 16:38:37|1097.0546666388616|22.6|\n",
      "|232045941|2024-01-01 16:47:13|18.46161| -64.56252| 7.2|104.2|  511.0|  NULL| NULL| NULL|               B|18.43288| -64.46211|2024-01-01 17:57:11|11.062670387414512| 7.2|\n",
      "|241409000|2024-01-01 11:47:29|23.86561| -84.31308|14.7|107.8|  105.0|     0|  8.1|   80|               A|23.80005| -84.07173|2024-01-01 12:43:05|25.607958781019164|14.7|\n",
      "|241409000|2024-01-01 14:06:35| 23.6819| -83.70881|15.4|111.7|  108.0|     0|  8.1|   80|               A|23.62053| -83.47716|2024-01-01 14:58:12|24.561675462107246|15.4|\n",
      "+---------+-------------------+--------+----------+----+-----+-------+------+-----+-----+----------------+--------+----------+-------------------+------------------+----+\n",
      "only showing top 20 rows\n"
     ]
    },
    {
     "name": "stderr",
     "output_type": "stream",
     "text": [
      "                                                                                \r"
     ]
    }
   ],
   "source": [
    "test_df.filter(f.expr(\"SOG > 50\")).show()"
   ]
  },
  {
   "cell_type": "code",
   "execution_count": 37,
   "id": "bfe78f00",
   "metadata": {},
   "outputs": [
    {
     "name": "stderr",
     "output_type": "stream",
     "text": [
      "[Stage 21:>                                                         (0 + 1) / 1]\r"
     ]
    },
    {
     "name": "stdout",
     "output_type": "stream",
     "text": [
      "+---------+-------------------+--------+---------+----+-----+-------+------+-----+-----+----------------+--------+---------+------------------+\n",
      "|     MMSI|       BaseDateTime|     LAT|      LON| SOG|  COG|Heading|Status|Draft|Cargo|TransceiverClass|lead_LAT| lead_LON|                 d|\n",
      "+---------+-------------------+--------+---------+----+-----+-------+------+-----+-----+----------------+--------+---------+------------------+\n",
      "|209425000|2024-01-01 00:36:13|16.12003|-66.55203|16.2|318.9|  322.0|     0|  7.7|   71|               A|16.12443|-66.55612|0.6559387806163122|\n",
      "|209425000|2024-01-01 00:37:31|16.12443|-66.55612|16.3|317.0|  322.0|     0|  7.7|   71|               A|16.12821|-66.55964|0.5639556381859766|\n",
      "|209425000|2024-01-01 00:38:38|16.12821|-66.55964|16.3|317.5|  322.0|     0|  7.7|   71|               A|16.13187|-66.56307|0.5475991626106907|\n",
      "|209425000|2024-01-01 00:39:43|16.13187|-66.56307|16.2|316.6|  322.0|     0|  7.7|   71|               A|16.13628|-66.56727|0.6646250904830295|\n",
      "|209425000|2024-01-01 00:41:02|16.13628|-66.56727|16.4|315.5|  322.0|     0|  7.7|   71|               A|16.14561|-66.57612|1.4035172871280321|\n",
      "|209425000|2024-01-01 00:43:49|16.14561|-66.57612|16.3|316.3|  322.0|     0|  7.7|   71|               A|16.15725|-66.58727|1.7588201851797198|\n",
      "|209425000|2024-01-01 00:47:19|16.15725|-66.58727|16.2|317.3|  322.0|     0|  7.7|   71|               A|16.16091|-66.59079|0.5540399957825204|\n",
      "|209425000|2024-01-01 00:48:26|16.16091|-66.59079|16.4|315.9|  322.0|     0|  7.7|   71|               A|16.21177|-66.63928| 7.667859804745878|\n",
      "|209425000|2024-01-01 01:03:56|16.21177|-66.63928|16.1|315.9|  324.0|     0|  7.7|   71|               A|16.21998|-66.64688|1.2214230555190073|\n",
      "|209425000|2024-01-01 01:06:25|16.21998|-66.64688|15.7|323.5|  324.0|     0|  7.7|   71|               A|16.22396|-66.65052|0.5889761270286538|\n",
      "|209425000|2024-01-01 01:07:37|16.22396|-66.65052|15.7|323.7|  326.0|     0|  7.7|   71|               A|16.26969|-66.68995| 6.601142059237783|\n",
      "|209425000|2024-01-01 01:20:56|16.26969|-66.68995|16.1|319.7|  325.0|     0|  7.7|   71|               A|16.29058|-66.70774|3.0002126658602117|\n",
      "|209425000|2024-01-01 01:27:01|16.29058|-66.70774|16.0|321.7|  325.0|     0|  7.7|   71|               A| 16.2958|-66.71213|0.7459480576915817|\n",
      "|209425000|2024-01-01 01:28:32| 16.2958|-66.71213|16.1|319.1|  325.0|     0|  7.7|   71|               A|16.29969|-66.71541|0.5564553216131914|\n",
      "|209425000|2024-01-01 01:29:38|16.29969|-66.71541|16.0|320.0|  325.0|     0|  7.7|   71|               A|16.30449|-66.71949|0.6888233809622639|\n",
      "|209425000|2024-01-01 01:31:01|16.30449|-66.71949|16.1|318.3|  325.0|     0|  7.7|   71|               A|16.30831|-66.72278|0.5510961571179576|\n",
      "|209425000|2024-01-01 01:32:08|16.30831|-66.72278|16.1|322.6|  325.0|     0|  7.7|   71|               A|16.31208|-66.72612|0.5502594303363108|\n",
      "|209425000|2024-01-01 01:33:13|16.31208|-66.72612|16.2|319.2|  325.0|     0|  7.7|   71|               A|16.32335|-66.73604|1.6404589158337517|\n",
      "|209425000|2024-01-01 01:36:31|16.32335|-66.73604|15.9|321.3|  325.0|     0|  7.7|   71|               A|16.32777|-66.73992|0.6426382511699763|\n",
      "|209425000|2024-01-01 01:37:49|16.32777|-66.73992|15.9|318.7|  325.0|     0|  7.7|   71|               A|16.33186|-66.74348|0.5925739899923106|\n",
      "+---------+-------------------+--------+---------+----+-----+-------+------+-----+-----+----------------+--------+---------+------------------+\n",
      "only showing top 20 rows\n"
     ]
    },
    {
     "name": "stderr",
     "output_type": "stream",
     "text": [
      "                                                                                \r"
     ]
    }
   ],
   "source": [
    "test_df.show()"
   ]
  }
 ],
 "metadata": {
  "kernelspec": {
   "display_name": "Python 3",
   "language": "python",
   "name": "python3"
  },
  "language_info": {
   "codemirror_mode": {
    "name": "ipython",
    "version": 3
   },
   "file_extension": ".py",
   "mimetype": "text/x-python",
   "name": "python",
   "nbconvert_exporter": "python",
   "pygments_lexer": "ipython3",
   "version": "3.10.12"
  }
 },
 "nbformat": 4,
 "nbformat_minor": 5
}

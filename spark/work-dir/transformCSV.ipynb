{
 "cells": [
  {
   "cell_type": "code",
   "execution_count": 5,
   "id": "9d011247",
   "metadata": {},
   "outputs": [],
   "source": [
    "from pyspark.sql import SparkSession\n",
    "from pyspark.sql.functions import col, date_trunc\n",
    "from pyspark.sql.types import *\n",
    "import polars as pl\n",
    "import pandas as pd"
   ]
  },
  {
   "cell_type": "code",
   "execution_count": 6,
   "id": "1568f430",
   "metadata": {},
   "outputs": [
    {
     "name": "stderr",
     "output_type": "stream",
     "text": [
      "WARNING: Using incubator modules: jdk.incubator.vector\n",
      "Using Spark's default log4j profile: org/apache/spark/log4j2-defaults.properties\n",
      "Setting default log level to \"WARN\".\n",
      "To adjust logging level use sc.setLogLevel(newLevel). For SparkR, use setLogLevel(newLevel).\n",
      "25/07/08 00:49:57 WARN NativeCodeLoader: Unable to load native-hadoop library for your platform... using builtin-java classes where applicable\n"
     ]
    }
   ],
   "source": [
    "spark = SparkSession.builder.appName(\"test\").getOrCreate()\n",
    "spark.conf.set(\"google.cloud.auth.service.account.enable\", \"true\")\n",
    "spark.conf.set(\"google.cloud.auth.service.account.json.keyfile\", \"/opt/spark/credentials/google-credential.json\")"
   ]
  },
  {
   "cell_type": "code",
   "execution_count": 7,
   "id": "852a78ab",
   "metadata": {},
   "outputs": [],
   "source": [
    "def get_spark_schema():\n",
    "  from pyspark.sql.types import StructType, StructField, IntegerType, TimestampType, FloatType, DoubleType, StringType\n",
    "  return StructType([\n",
    "    StructField(\"MMSI\", IntegerType(), True),\n",
    "    StructField(\"BaseDateTime\", TimestampType(), True),\n",
    "    StructField(\"LAT\", DoubleType(), True),\n",
    "    StructField(\"LON\", DoubleType(), True),\n",
    "    StructField(\"SOG\", FloatType(), True),\n",
    "    StructField(\"COG\", FloatType(), True),\n",
    "    StructField(\"Heading\", FloatType(), True),\n",
    "    StructField(\"VesselName\", StringType(), True),\n",
    "    StructField(\"IMO\", StringType(), True),\n",
    "    StructField(\"CallSign\", StringType(), True),\n",
    "    StructField(\"VesselType\", ShortType(), True),\n",
    "    StructField(\"Status\", ShortType(), True),\n",
    "    StructField(\"Length\", FloatType(), True),\n",
    "    StructField(\"Width\", FloatType(), True),\n",
    "    StructField(\"Draft\", FloatType(), True),\n",
    "    StructField(\"Cargo\", StringType(), True),\n",
    "    StructField(\"TransceiverClass\", StringType(), True)\n",
    "  ])\n",
    "\n",
    "def get_pl_schema():\n",
    "  from polars import Schema, String, Datetime, Int32, Int16, Float64, Float32\n",
    "  return Schema(\n",
    "    {\n",
    "      \"MMSI\":Int32(),\n",
    "      \"BaseDateTime\":Datetime(),\n",
    "      \"LAT\":Float64(),\n",
    "      \"LON\":Float64(),\n",
    "      \"SOG\":Float32(),\n",
    "      \"COG\":Float32(),\n",
    "      \"Heading\":Float32(),\n",
    "      \"VesselName\":String(),\n",
    "      \"IMO\":String(),\n",
    "      \"CallSign\":String(),\n",
    "      \"VesselType\":Int16(),\n",
    "      \"Status\":Int16(),\n",
    "      \"Length\":Float32(),\n",
    "      \"Width\":Float32(),\n",
    "      \"Draft\":Float32(),\n",
    "      \"Cargo\":String(),\n",
    "      \"TransceiverClass\":String()\n",
    "    }\n",
    "  )\n"
   ]
  },
  {
   "cell_type": "code",
   "execution_count": null,
   "id": "0d95ec2d",
   "metadata": {},
   "outputs": [],
   "source": [
    "def ingest_day(url:str, path:str, storage_options:dict = None):\n",
    "  import requests, zipfile, io\n",
    "  import polars as pl \n",
    "  res = requests.get(url=url, stream=True)\n",
    "  if(res.status_code == 200):\n",
    "    zip_buffer = io.BytesIO(res.content)\n",
    "    with zipfile.ZipFile(zip_buffer, 'r') as zip_ref:\n",
    "      csv_filename = zip_ref.namelist()[0]\n",
    "      with zip_ref.open(csv_filename) as csv_file:\n",
    "        pl.read_csv(csv_file, has_header=True, infer_schema=False,schema=get_pl_schema()) \\\n",
    "          .write_parquet(file=path, storage_options=storage_options)\n",
    "\n",
    "def spark_read(spark, path):\n",
    "    return "
   ]
  },
  {
   "cell_type": "code",
   "execution_count": null,
   "id": "32d40fe5",
   "metadata": {},
   "outputs": [],
   "source": [
    "url= \"https://coast.noaa.gov/htdata/CMSP/AISDataHandler/2024/AIS_2024_01_01.zip\"\n",
    "path = \"gs://vessel-traffic-parquet-data/raw_day/*\"\n",
    "storage_options = {\"service_account_path\":\"/opt/spark/credentials/google-credential.json\"}\n",
    "#ingest_day(url, path, storage_options)"
   ]
  },
  {
   "cell_type": "code",
   "execution_count": 26,
   "id": "a1d272ed",
   "metadata": {},
   "outputs": [],
   "source": [
    "spark_df = spark.read.schema(get_spark_schema()).format(\"parquet\").load(path)"
   ]
  },
  {
   "cell_type": "code",
   "execution_count": 27,
   "id": "a00b69d1",
   "metadata": {},
   "outputs": [
    {
     "name": "stderr",
     "output_type": "stream",
     "text": [
      "                                                                                \r"
     ]
    },
    {
     "data": {
      "text/plain": [
       "7296275"
      ]
     },
     "execution_count": 27,
     "metadata": {},
     "output_type": "execute_result"
    }
   ],
   "source": [
    "spark_df.count()"
   ]
  },
  {
   "cell_type": "code",
   "execution_count": 28,
   "id": "a93441fc",
   "metadata": {},
   "outputs": [
    {
     "name": "stderr",
     "output_type": "stream",
     "text": [
      "[Stage 3:>                                                          (0 + 1) / 1]\r"
     ]
    },
    {
     "name": "stdout",
     "output_type": "stream",
     "text": [
      "+---------+-------------------+--------+----------+----+-----+-------+--------------------+----------+--------+----------+------+------+-----+-----+-----+----------------+\n",
      "|     MMSI|       BaseDateTime|     LAT|       LON| SOG|  COG|Heading|          VesselName|       IMO|CallSign|VesselType|Status|Length|Width|Draft|Cargo|TransceiverClass|\n",
      "+---------+-------------------+--------+----------+----+-----+-------+--------------------+----------+--------+----------+------+------+-----+-----+-----+----------------+\n",
      "|338075892|2024-01-01 00:00:03|43.65322| -70.25298| 0.0|358.8|  511.0|PILOT BOAT SPRING PT|      NULL| WDB8945|        90|     0|   0.0|  0.0|  0.0|   90|               A|\n",
      "|367669550|2024-01-01 00:00:04|46.20031|-123.38573| 0.0|281.9|  141.0|   ALASKA CHALLENGER|IMO7938024| WDH9586|        30|    15|  30.0|  8.0|  0.0|   30|               A|\n",
      "|367118980|2024-01-01 00:00:06|29.98534| -90.40674| 0.0| 30.1|  296.0|     CAPT J A MORGAN|IMO1186680| WDD2725|        31|    12| 115.0| 34.0|  3.0|   57|               A|\n",
      "|367177840|2024-01-01 00:00:05|39.88654| -75.17649| 0.0|304.4|  511.0|       BART TURECAMO|IMO7338808| WBR4464|        52|    15|  33.0|  5.0|  0.0|   52|               A|\n",
      "|367305420|2024-01-01 00:00:06|18.33273| -64.95229| 0.0|332.6|  511.0|       DOROTHY MORAN|IMO7716995| WXU4654|        52|     0|  33.0| 11.0|  0.0|   52|               A|\n",
      "|338239081|2024-01-01 00:00:05|38.95731|  -76.4841| 0.1|111.3|  511.0|              JAHAZI|IMO0000000|    NULL|        36|  NULL|  12.0|  4.0| NULL| NULL|               B|\n",
      "|367507960|2024-01-01 00:00:02|33.75386|-118.22404| 0.0|281.8|  511.0|      DB SALTA VERDE|      NULL| WDF9705|        90|     3|  56.0| 15.0|  2.0|   90|               A|\n",
      "|636018568|2024-01-01 00:00:04|29.27798| -94.59552|10.5|140.7|  143.0|        VIVIT ALTAIS|IMO9840879|   D5QH3|        80|     0| 230.0| 32.0| 11.8|   80|               A|\n",
      "|366847780|2024-01-01 00:00:03|30.18136| -87.67583| 7.6|259.0|  262.0|        PACIFIC DAWN|IMO7400467| WDA7844|        31|     0|  30.0|  8.0|  5.0|   31|               A|\n",
      "|367468580|2024-01-01 00:00:04|29.97021| -90.24457| 0.0|144.3|  511.0|         EMMA CLAIRE|      NULL| WDF5910|        31|     0|  20.0|  7.0|  2.0|   31|               A|\n",
      "|367072840|2024-01-01 00:00:02| 29.5772| -90.60772| 0.0|305.7|  178.0|      KELLY MORRISON|IMO8216485| WDC7532|        34|     0|  60.0| 18.0| 13.3|   34|               A|\n",
      "|368001250|2024-01-01 00:00:08|29.73652| -95.27787| 0.1|351.4|  161.0|           GRAND ANN|IMO0639580| WDJ6890|        52|     3|  97.0| 36.0|  3.0|   52|               A|\n",
      "|366997450|2024-01-01 00:00:03|30.52843| -88.11744| 0.0|306.2|  511.0|            LA BELLE|IMO0000097| WDC2767|        31|     0|  20.0| 16.0|  2.5|   31|               A|\n",
      "|367767310|2024-01-01 00:00:06|27.84387| -97.06975| 1.4|314.5|  511.0|   MICHAEL W BEHRENS|      NULL| WDJ3363|        60|     0|  48.0| 16.0|  3.3|   60|               A|\n",
      "|367002380|2024-01-01 00:00:00|30.11553| -90.99878| 3.0| 16.2|  511.0|          FREEDOM_II|      NULL| WDN7105|        31|    15|  20.0|  9.0|  9.0|   31|               A|\n",
      "|366952790|2024-01-01 00:00:00|40.70003| -74.01225| 0.4|303.0|  160.0|      GUY V MOLINARI|IMO9333486| WDB8295|        60|     0| 100.0| 24.0|  4.0|   60|               A|\n",
      "|367691010|2024-01-01 00:00:00|41.32739| -70.11074|14.6|334.3|  333.0|          WOODS HOLE|IMO9792931| WDI3700|        60|     0|  70.0| 18.0|  4.0|   60|               A|\n",
      "|368102470|2024-01-01 00:00:01| 30.0623| -90.87162| 5.7|285.2|  511.0|            JOANNE C|      NULL| WDK9314|        52|     0|  23.0|  8.0|  3.0|   52|               A|\n",
      "|368327980|2024-01-01 00:00:01|40.64431| -74.11334| 0.0|360.0|  511.0|         HENRY GIRLS|      NULL| WDN9539|        52|     0|  75.0| 26.0|  0.0|   52|               A|\n",
      "|368055190|2024-01-01 00:00:00|29.42377| -94.72035| 0.0|138.4|   47.0|        BRADY DAWSON|IMO1289289| WDK4438|        52|    12| 119.0| 34.0|  3.0|   52|               A|\n",
      "+---------+-------------------+--------+----------+----+-----+-------+--------------------+----------+--------+----------+------+------+-----+-----+-----+----------------+\n",
      "only showing top 20 rows\n"
     ]
    },
    {
     "name": "stderr",
     "output_type": "stream",
     "text": [
      "                                                                                \r"
     ]
    }
   ],
   "source": [
    "spark_df.show()"
   ]
  },
  {
   "cell_type": "code",
   "execution_count": 93,
   "id": "6ec33b10",
   "metadata": {},
   "outputs": [],
   "source": [
    "updated_df = spark_df.withColumn(\"Year-Month-Partition\", date_trunc(\"month\", col(\"BaseDateTime\")).cast(\"date\"))"
   ]
  },
  {
   "cell_type": "code",
   "execution_count": 94,
   "id": "d90fcf65",
   "metadata": {},
   "outputs": [
    {
     "name": "stdout",
     "output_type": "stream",
     "text": [
      "+---------+-------------------+--------+----------+----+-----+-------+--------------------+----------+--------+----------+------+------+-----+-----+-----+----------------+--------------------+\n",
      "|     MMSI|       BaseDateTime|     LAT|       LON| SOG|  COG|Heading|          VesselName|       IMO|CallSign|VesselType|Status|Length|Width|Draft|Cargo|TransceiverClass|Year-Month-Partition|\n",
      "+---------+-------------------+--------+----------+----+-----+-------+--------------------+----------+--------+----------+------+------+-----+-----+-----+----------------+--------------------+\n",
      "|338075892|2024-01-01 00:00:03|43.65322| -70.25298| 0.0|358.8|  511.0|PILOT BOAT SPRING PT|      NULL| WDB8945|        90|     0|   0.0|  0.0|  0.0|   90|               A|          2024-01-01|\n",
      "|367669550|2024-01-01 00:00:04|46.20031|-123.38573| 0.0|281.9|  141.0|   ALASKA CHALLENGER|IMO7938024| WDH9586|        30|    15|  30.0|  8.0|  0.0|   30|               A|          2024-01-01|\n",
      "|367118980|2024-01-01 00:00:06|29.98534| -90.40674| 0.0| 30.1|  296.0|     CAPT J A MORGAN|IMO1186680| WDD2725|        31|    12| 115.0| 34.0|  3.0|   57|               A|          2024-01-01|\n",
      "|367177840|2024-01-01 00:00:05|39.88654| -75.17649| 0.0|304.4|  511.0|       BART TURECAMO|IMO7338808| WBR4464|        52|    15|  33.0|  5.0|  0.0|   52|               A|          2024-01-01|\n",
      "|367305420|2024-01-01 00:00:06|18.33273| -64.95229| 0.0|332.6|  511.0|       DOROTHY MORAN|IMO7716995| WXU4654|        52|     0|  33.0| 11.0|  0.0|   52|               A|          2024-01-01|\n",
      "|338239081|2024-01-01 00:00:05|38.95731|  -76.4841| 0.1|111.3|  511.0|              JAHAZI|IMO0000000|    NULL|        36|  NULL|  12.0|  4.0| NULL| NULL|               B|          2024-01-01|\n",
      "|367507960|2024-01-01 00:00:02|33.75386|-118.22404| 0.0|281.8|  511.0|      DB SALTA VERDE|      NULL| WDF9705|        90|     3|  56.0| 15.0|  2.0|   90|               A|          2024-01-01|\n",
      "|636018568|2024-01-01 00:00:04|29.27798| -94.59552|10.5|140.7|  143.0|        VIVIT ALTAIS|IMO9840879|   D5QH3|        80|     0| 230.0| 32.0| 11.8|   80|               A|          2024-01-01|\n",
      "|366847780|2024-01-01 00:00:03|30.18136| -87.67583| 7.6|259.0|  262.0|        PACIFIC DAWN|IMO7400467| WDA7844|        31|     0|  30.0|  8.0|  5.0|   31|               A|          2024-01-01|\n",
      "|367468580|2024-01-01 00:00:04|29.97021| -90.24457| 0.0|144.3|  511.0|         EMMA CLAIRE|      NULL| WDF5910|        31|     0|  20.0|  7.0|  2.0|   31|               A|          2024-01-01|\n",
      "|367072840|2024-01-01 00:00:02| 29.5772| -90.60772| 0.0|305.7|  178.0|      KELLY MORRISON|IMO8216485| WDC7532|        34|     0|  60.0| 18.0| 13.3|   34|               A|          2024-01-01|\n",
      "|368001250|2024-01-01 00:00:08|29.73652| -95.27787| 0.1|351.4|  161.0|           GRAND ANN|IMO0639580| WDJ6890|        52|     3|  97.0| 36.0|  3.0|   52|               A|          2024-01-01|\n",
      "|366997450|2024-01-01 00:00:03|30.52843| -88.11744| 0.0|306.2|  511.0|            LA BELLE|IMO0000097| WDC2767|        31|     0|  20.0| 16.0|  2.5|   31|               A|          2024-01-01|\n",
      "|367767310|2024-01-01 00:00:06|27.84387| -97.06975| 1.4|314.5|  511.0|   MICHAEL W BEHRENS|      NULL| WDJ3363|        60|     0|  48.0| 16.0|  3.3|   60|               A|          2024-01-01|\n",
      "|367002380|2024-01-01 00:00:00|30.11553| -90.99878| 3.0| 16.2|  511.0|          FREEDOM_II|      NULL| WDN7105|        31|    15|  20.0|  9.0|  9.0|   31|               A|          2024-01-01|\n",
      "|366952790|2024-01-01 00:00:00|40.70003| -74.01225| 0.4|303.0|  160.0|      GUY V MOLINARI|IMO9333486| WDB8295|        60|     0| 100.0| 24.0|  4.0|   60|               A|          2024-01-01|\n",
      "|367691010|2024-01-01 00:00:00|41.32739| -70.11074|14.6|334.3|  333.0|          WOODS HOLE|IMO9792931| WDI3700|        60|     0|  70.0| 18.0|  4.0|   60|               A|          2024-01-01|\n",
      "|368102470|2024-01-01 00:00:01| 30.0623| -90.87162| 5.7|285.2|  511.0|            JOANNE C|      NULL| WDK9314|        52|     0|  23.0|  8.0|  3.0|   52|               A|          2024-01-01|\n",
      "|368327980|2024-01-01 00:00:01|40.64431| -74.11334| 0.0|360.0|  511.0|         HENRY GIRLS|      NULL| WDN9539|        52|     0|  75.0| 26.0|  0.0|   52|               A|          2024-01-01|\n",
      "|368055190|2024-01-01 00:00:00|29.42377| -94.72035| 0.0|138.4|   47.0|        BRADY DAWSON|IMO1289289| WDK4438|        52|    12| 119.0| 34.0|  3.0|   52|               A|          2024-01-01|\n",
      "+---------+-------------------+--------+----------+----+-----+-------+--------------------+----------+--------+----------+------+------+-----+-----+-----+----------------+--------------------+\n",
      "only showing top 20 rows\n"
     ]
    }
   ],
   "source": [
    "updated_df.show()"
   ]
  }
 ],
 "metadata": {
  "kernelspec": {
   "display_name": "Python 3",
   "language": "python",
   "name": "python3"
  },
  "language_info": {
   "codemirror_mode": {
    "name": "ipython",
    "version": 3
   },
   "file_extension": ".py",
   "mimetype": "text/x-python",
   "name": "python",
   "nbconvert_exporter": "python",
   "pygments_lexer": "ipython3",
   "version": "3.10.12"
  }
 },
 "nbformat": 4,
 "nbformat_minor": 5
}
